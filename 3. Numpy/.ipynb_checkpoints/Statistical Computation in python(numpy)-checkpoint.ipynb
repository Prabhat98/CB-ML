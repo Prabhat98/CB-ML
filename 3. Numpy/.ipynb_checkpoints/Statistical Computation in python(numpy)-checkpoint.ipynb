{
 "cells": [
  {
   "cell_type": "markdown",
   "metadata": {},
   "source": [
    "## Numpy\n",
    "### it is very powerful mathematical python library, it will be used a lot while making machine learning algorithms "
   ]
  },
  {
   "cell_type": "code",
   "execution_count": 2,
   "metadata": {},
   "outputs": [
    {
     "name": "stdout",
     "output_type": "stream",
     "text": [
      "[1 2 3 4 5]\n",
      "<class 'numpy.ndarray'>\n",
      "(5,)\n",
      "[[1 2 3 4]\n",
      " [4 5 6 8]]\n",
      "(2, 4)\n",
      "[[1 2]\n",
      " [3 4]\n",
      " [5 6]]\n",
      "(3, 2)\n",
      "2\n"
     ]
    }
   ],
   "source": [
    "# importing numpy\n",
    "import numpy as np\n",
    "a = np.array([1,2,3,4,5])\n",
    "print(a)\n",
    "print(type(a))\n",
    "# the shape attribute returns the dimensions of the array in the form of tuple, rows into columns\n",
    "# because it is a linear array so its shape comes out to be (5,). in case of a 2d array with 5 rows and 1 column the shape would \n",
    "# be (5,1)\n",
    "print(a.shape)\n",
    "a1 = [1,2,3,4]\n",
    "a2 = [4,5,6,8]\n",
    "a3 = [a1,a2]\n",
    "print(np.array(a3))\n",
    "a4 = np.array(a3)\n",
    "# now a4 is a 2d array hence its dimensions are 2X4(2 represents rows and 4 represents columns)\n",
    "print(a4.shape)\n",
    "b = np.array([[1,2],[3,4],[5,6]])\n",
    "print(b)\n",
    "print(b.shape)\n",
    "print(b[0][1])"
   ]
  },
  {
   "cell_type": "code",
   "execution_count": 41,
   "metadata": {},
   "outputs": [
    {
     "name": "stdout",
     "output_type": "stream",
     "text": [
      "[[0. 0. 0. 0.]\n",
      " [0. 0. 0. 0.]\n",
      " [0. 0. 0. 0.]\n",
      " [0. 0. 0. 0.]]\n",
      "<class 'numpy.ndarray'>\n",
      "[[1. 1. 1.]\n",
      " [1. 1. 1.]\n",
      " [1. 1. 1.]]\n",
      "[[6 6]\n",
      " [6 6]\n",
      " [6 6]]\n",
      "[[1. 0. 0. 0.]\n",
      " [0. 1. 0. 0.]\n",
      " [0. 0. 1. 0.]\n",
      " [0. 0. 0. 1.]]\n",
      "[[0.50958522 0.82788196]\n",
      " [0.56587257 0.18161643]\n",
      " [0.29327075 0.42072299]]\n",
      "[0.82788196 0.18161643 0.42072299]\n",
      "[[ 0.50958522  0.82788196]\n",
      " [ 0.56587257 22.        ]\n",
      " [ 0.29327075 22.        ]]\n"
     ]
    }
   ],
   "source": [
    "# creating array of zeroes, ones and custom arrays\n",
    "c = np.zeros((4,4))\n",
    "print(c)\n",
    "print(type(c))\n",
    "d = np.ones((3,3))\n",
    "print(d)\n",
    "\n",
    "# array of some constants \n",
    "# first argument takes rows and columns and second one takes the constant\n",
    "e = np.full((3,2),6)\n",
    "print(e)\n",
    "\n",
    "# identity matrix(square matrix)\n",
    "print(np.eye(4))\n",
    "\n",
    "# random matrix, matrix of random integers\n",
    "ran = np.random.random((3,2))\n",
    "print(ran)\n",
    "# to get multiple values from the matrix, : means for all\n",
    "print(ran[:,1])\n",
    "# to update entries in a matrix, 1: means starting from 1 upto last element or we could say 1:3 coz starting point is included\n",
    "# and ending point is not included\n",
    "ran[1:,1] = 22\n",
    "print(ran)"
   ]
  },
  {
   "cell_type": "code",
   "execution_count": 47,
   "metadata": {},
   "outputs": [
    {
     "name": "stdout",
     "output_type": "stream",
     "text": [
      "float64\n",
      "[[0 0 0]\n",
      " [0 0 0]\n",
      " [0 0 0]]\n",
      "int64\n"
     ]
    }
   ],
   "source": [
    "# datatypes\n",
    "\n",
    "# by default the datatype is float but can be changed to integer\n",
    "print(c.dtype)\n",
    "z = np.zeros((3,3), dtype = np.int64)\n",
    "print(z)\n",
    "print(z.dtype)"
   ]
  },
  {
   "cell_type": "code",
   "execution_count": 55,
   "metadata": {},
   "outputs": [
    {
     "name": "stdout",
     "output_type": "stream",
     "text": [
      "[[ 6  8]\n",
      " [10 12]]\n",
      "[[-4 -4]\n",
      " [-4 -4]]\n",
      "[[19 22]\n",
      " [43 50]]\n",
      "[[19 22]\n",
      " [43 50]]\n",
      "14\n",
      "6\n",
      "6\n",
      "[4 6]\n"
     ]
    }
   ],
   "source": [
    "# mathematical operations \n",
    "x1 = np.array([[1,2],[3,4]])\n",
    "x2 = np.array([[5,6],[7,8]])\n",
    "# operations are performed elementwise, add subtract multiply divide sqrt\n",
    "print(np.add(x1,x2))\n",
    "print(x1-x2)\n",
    "\n",
    "# matrix multiplication and dot product\n",
    "print(x1.dot(x2))\n",
    "print(np.dot(x1,x2))\n",
    "\n",
    "# multiplication of vectors(dot product), we get a scalar value\n",
    "y1 = np.array([1,2,3])\n",
    "y2 = np.array([1,2,3])\n",
    "print(y1.dot(y2))\n",
    "\n",
    "# sum of elements of an array\n",
    "print(np.sum(y1))\n",
    "print(sum(y2))\n",
    "# it takes an optional parameter, axis = 0 means that it will give sum along the column, elements along the same row will be \n",
    "# summed up together, axis = 1 will give sum along the rows\n",
    "print(np.sum(x1, axis = 0))"
   ]
  },
  {
   "cell_type": "code",
   "execution_count": 59,
   "metadata": {},
   "outputs": [
    {
     "name": "stdout",
     "output_type": "stream",
     "text": [
      "[[       1        1]\n",
      " [   65536        2]\n",
      " [43046721        3]]\n",
      "[[       1    65536 43046721]\n",
      " [       1        2        3]]\n"
     ]
    }
   ],
   "source": [
    "# stacking of arrays, this will join two arrays or concatenate it \n",
    "y1 = y1**2\n",
    "# the axis parameter specifies the index of the new axis in the dimensions of the result\n",
    "# along axis = 1 the first array becomes the first column and the second array becomes the second column\n",
    "print(np.stack((y1,y2), axis = 1))\n",
    "print(np.stack((y1,y2), axis = 0))"
   ]
  },
  {
   "cell_type": "code",
   "execution_count": 67,
   "metadata": {},
   "outputs": [
    {
     "name": "stdout",
     "output_type": "stream",
     "text": [
      "[[0. 0. 0. 0.]\n",
      " [0. 0. 0. 0.]\n",
      " [0. 0. 0. 0.]\n",
      " [0. 0. 0. 0.]]\n",
      "[[0. 0. 0. 0. 0. 0. 0. 0.]\n",
      " [0. 0. 0. 0. 0. 0. 0. 0.]]\n",
      "[[0. 0.]\n",
      " [0. 0.]\n",
      " [0. 0.]\n",
      " [0. 0.]\n",
      " [0. 0.]\n",
      " [0. 0.]\n",
      " [0. 0.]\n",
      " [0. 0.]]\n"
     ]
    }
   ],
   "source": [
    "# reshaping the array\n",
    "zer = np.zeros((4,4))\n",
    "print(zer)\n",
    "zer = zer.reshape((2,8))\n",
    "print(zer)\n",
    "# when you dont know how many rows or columns should be there then put -1 and it will figure out itself\n",
    "zer = zer.reshape((8, -1))\n",
    "print(zer)"
   ]
  },
  {
   "cell_type": "markdown",
   "metadata": {},
   "source": [
    "## Numpy Random Module\n",
    "### it is a very powerful module when it comes to working with random distributions and numbers"
   ]
  },
  {
   "cell_type": "code",
   "execution_count": 82,
   "metadata": {},
   "outputs": [
    {
     "name": "stdout",
     "output_type": "stream",
     "text": [
      "[0 1 2 3 4 5 6 7 8 9]\n",
      "[ 5  6  7  8  9 10 11 12 13 14]\n",
      "[10 11  8 14  6  5 12  9 13  7]\n",
      "[[0.81965067 0.72647703 0.77182528]\n",
      " [0.26916488 0.50126571 0.31294434]\n",
      " [0.16095071 0.83112833 0.389291  ]\n",
      " [0.46601064 0.10686235 0.9134528 ]]\n",
      "[7 9 9]\n",
      "2\n"
     ]
    }
   ],
   "source": [
    "# np.arange is used to create numeric sequences\n",
    "w1 = np.arange(10)\n",
    "print(w1)\n",
    "w2 = np.arange(10) + 5 \n",
    "print(w2)\n",
    "\n",
    "# to shuffle the elements of the array in random order\n",
    "np.random.shuffle(w2)\n",
    "print(w2)\n",
    "\n",
    "# to generate an array of random numbers, the parameter passed is the shape of the array\n",
    "# returns value from standard normal distribution\n",
    "w3 = np.random.rand(4,3)\n",
    "print(w3)\n",
    "\n",
    "# it will give us 3 numbers which are in the range of 5 and 10\n",
    "w4 = np.random.randint(5,10,3)\n",
    "print(w4)\n",
    "\n",
    "# to randomly pick an element from an array\n",
    "ele = np.random.choice([1,2,3,4,5,6])\n",
    "print(ele)"
   ]
  },
  {
   "cell_type": "code",
   "execution_count": 122,
   "metadata": {},
   "outputs": [
    {
     "name": "stdout",
     "output_type": "stream",
     "text": [
      "[6 9 6]\n"
     ]
    }
   ],
   "source": [
    "# it uses a particular algorithm to generate pseudorandom numbers, so we use the concept of seed.\n",
    "# we define seed to make the random numbers predictable and not so much random\n",
    "np.random.seed(1)\n",
    "w5 = np.random.randint(1,10,3)\n",
    "print(w5)"
   ]
  },
  {
   "cell_type": "markdown",
   "metadata": {},
   "source": [
    "## More numpy functions"
   ]
  },
  {
   "cell_type": "code",
   "execution_count": 3,
   "metadata": {},
   "outputs": [
    {
     "name": "stdout",
     "output_type": "stream",
     "text": [
      "0\n",
      "[4 9]\n",
      "4.125\n",
      "4.0\n"
     ]
    }
   ],
   "source": [
    "w6 = np.array([[1,2,3,4],[8,9,6,0]])\n",
    "# gives the minimum value in the whole array\n",
    "print(np.min(w6))\n",
    "# to get minimum value accross axis = 0, 1, to specify the direction\n",
    "print(np.max(w6, axis = 1))\n",
    "\n",
    "# to average all the elements, to find mean, simillarly here too the axis can be specified\n",
    "print(np.mean(w6))\n",
    "\n",
    "# to compute median, data be in ascending order\n",
    "w7 = np.array([4,5,6,1,2])\n",
    "print(np.median(w7))"
   ]
  },
  {
   "cell_type": "code",
   "execution_count": 11,
   "metadata": {},
   "outputs": [
    {
     "name": "stdout",
     "output_type": "stream",
     "text": [
      "3.0\n",
      "1.118033988749895\n",
      "1.118033988749895\n",
      "1.2500000000000002\n",
      "1.25\n"
     ]
    }
   ],
   "source": [
    "# weights\n",
    "w8 = np.array([1,2,3,4])\n",
    "print(np.average(w8, weights = w8))\n",
    "\n",
    "# standard deviation\n",
    "u = np.mean(w8)\n",
    "mystd = np.sqrt(np.mean(abs(w8-u)**2))\n",
    "print(mystd)\n",
    "\n",
    "# inbuilt function for standard deviation \n",
    "dev = np.std(w8)\n",
    "print(dev)\n",
    "\n",
    "# variance\n",
    "print(dev**2)\n",
    "print(np.var(w8))"
   ]
  }
 ],
 "metadata": {
  "kernelspec": {
   "display_name": "Python 3",
   "language": "python",
   "name": "python3"
  },
  "language_info": {
   "codemirror_mode": {
    "name": "ipython",
    "version": 3
   },
   "file_extension": ".py",
   "mimetype": "text/x-python",
   "name": "python",
   "nbconvert_exporter": "python",
   "pygments_lexer": "ipython3",
   "version": "3.7.0"
  }
 },
 "nbformat": 4,
 "nbformat_minor": 2
}
