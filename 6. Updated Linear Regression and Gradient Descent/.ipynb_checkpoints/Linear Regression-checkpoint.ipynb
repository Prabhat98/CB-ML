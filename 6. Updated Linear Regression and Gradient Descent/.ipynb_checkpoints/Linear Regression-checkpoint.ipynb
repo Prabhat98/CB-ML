{
 "cells": [
  {
   "cell_type": "code",
   "execution_count": 1,
   "metadata": {},
   "outputs": [],
   "source": [
    "import pandas as pd\n",
    "import numpy as np\n",
    "import matplotlib.pyplot as plt"
   ]
  },
  {
   "cell_type": "code",
   "execution_count": 44,
   "metadata": {},
   "outputs": [
    {
     "data": {
      "image/png": "[encoded data removed]",
      "text/plain": [
       "<Figure size 432x288 with 1 Axes>"
      ]
     },
     "metadata": {
      "needs_background": "light"
     },
     "output_type": "display_data"
    }
   ],
   "source": [
    "x = pd.read_csv(\"./data/linearX.csv\")\n",
    "y = pd.read_csv(\"./data/linearY.csv\")\n",
    "x = x.values\n",
    "y = y.values\n",
    "plt.scatter(x,y)\n",
    "plt.plot(x,Y)\n",
    "plt.show()"
   ]
  },
  {
   "cell_type": "code",
   "execution_count": 43,
   "metadata": {},
   "outputs": [
    {
     "name": "stderr",
     "output_type": "stream",
     "text": [
      "C:\\Users\\Prabhat\\Anaconda3\\lib\\site-packages\\ipykernel_launcher.py:9: RuntimeWarning: overflow encountered in add\n",
      "  if __name__ == '__main__':\n",
      "C:\\Users\\Prabhat\\Anaconda3\\lib\\site-packages\\ipykernel_launcher.py:9: RuntimeWarning: overflow encountered in square\n",
      "  if __name__ == '__main__':\n",
      "C:\\Users\\Prabhat\\Anaconda3\\lib\\site-packages\\ipykernel_launcher.py:23: RuntimeWarning: overflow encountered in add\n",
      "C:\\Users\\Prabhat\\Anaconda3\\lib\\site-packages\\ipykernel_launcher.py:44: RuntimeWarning: invalid value encountered in subtract\n"
     ]
    },
    {
     "name": "stdout",
     "output_type": "stream",
     "text": [
      "[0.99663414] [nan]\n"
     ]
    },
    {
     "data": {
      "image/png": "[encoded data removed]",
      "text/plain": [
       "<Figure size 432x288 with 1 Axes>"
      ]
     },
     "metadata": {
      "needs_background": "light"
     },
     "output_type": "display_data"
    }
   ],
   "source": [
    "def hypothesis(theta_not, theta_one, x):\n",
    "    Y = theta_not + (theta_one*x)\n",
    "    return Y\n",
    "\n",
    "def error(x, y, theta_not, theta_one):\n",
    "    m = x.shape[0]\n",
    "    total_error = 0.0\n",
    "    for i in range(m):\n",
    "        total_error = total_error + (hypothesis(theta_not, theta_one, x) - y[i])**2\n",
    "    return 0.5*total_error\n",
    "\n",
    "def derivative_theta_not(theta_not, theta_one, x, y):\n",
    "    total_sum = 0.0\n",
    "    m = y.shape[0]\n",
    "    for i in range(m):\n",
    "        total_sum = total_sum + (hypothesis(theta_not, theta_one, x[i]) - y[i])\n",
    "    return total_sum\n",
    "\n",
    "def derivative_theta_one(theta_not, theta_one, x, y):\n",
    "    total_sum = 0.0\n",
    "    m = y.shape[0]\n",
    "    for i in range(m):\n",
    "        total_sum = total_sum + ((hypothesis(theta_not, theta_one, x[i]) - y[i]))*x[i]\n",
    "    return total_sum\n",
    "\n",
    "def theta_not_fn(x, y, learning_rate, max_iterations):\n",
    "    theta_not = 0.0\n",
    "    theta_one = 0.0\n",
    "    ce = []\n",
    "    for i in range(max_iterations):\n",
    "        der = derivative_theta_not(theta_not, theta_one, x, y)\n",
    "        theta_not_error = error(x, y, theta_not, theta_one)\n",
    "        theta_not = theta_not - learning_rate*der\n",
    "        ce.append(theta_not_error)\n",
    "    return theta_not, ce\n",
    "\n",
    "def theta_one_fn(x, y, learning_rate, max_iterations):\n",
    "    theta_not = 0.0\n",
    "    theta_one = 0.0\n",
    "    ce = []\n",
    "    for i in range(max_iterations):\n",
    "        der = derivative_theta_one(theta_not, theta_one, x, y)\n",
    "        theta_one_error = error(x, y, theta_not, theta_one)\n",
    "        theta_one = theta_one - learning_rate*der\n",
    "        ce.append(theta_one_error)\n",
    "    return theta_one,ce               \n",
    "\n",
    "a, b = theta_not_fn(x, y, learning_rate = 0.001, max_iterations = 500) #not_theta\n",
    "c, d = theta_one_fn(x, y, learning_rate = 0.001, max_iterations = 500) #one_theta\n",
    "\n",
    "print(a,c)\n",
    "\n",
    "Y = hypothesis(a, c, x)\n",
    "plt.plot(x,Y)\n",
    "plt.scatter(x,y, color = \"orange\")\n",
    "plt.show()"
   ]
  }
 ],
 "metadata": {
  "kernelspec": {
   "display_name": "Python 3",
   "language": "python",
   "name": "python3"
  },
  "language_info": {
   "codemirror_mode": {
    "name": "ipython",
    "version": 3
   },
   "file_extension": ".py",
   "mimetype": "text/x-python",
   "name": "python",
   "nbconvert_exporter": "python",
   "pygments_lexer": "ipython3",
   "version": "3.7.0"
  }
 },
 "nbformat": 4,
 "nbformat_minor": 2
}
