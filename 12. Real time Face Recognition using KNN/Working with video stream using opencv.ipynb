{
 "cells": [
  {
   "cell_type": "code",
   "execution_count": 2,
   "metadata": {},
   "outputs": [],
   "source": [
    "import cv2"
   ]
  },
  {
   "cell_type": "code",
   "execution_count": 4,
   "metadata": {},
   "outputs": [],
   "source": [
    "cap = cv2.VideoCapture(0)\n",
    "\n",
    "while(True):\n",
    "    ret, frame = cap.read()\n",
    "    if(ret == False):\n",
    "        continue\n",
    "    cv2.imshow(\"Video Frame\", frame)\n",
    "    # we could write 255 instead of 0xff coz both are same\n",
    "    # ord method gives us the ASCII of that\n",
    "    if((cv2.waitKey(1) & (0xff)) == ord('q')):\n",
    "        break\n",
    "    \"\"\"or we could do, both works fine just in this case we dont convert to 8 bit and let it remain in 32 bit integer\n",
    "    if(cv2.waitKey(1) == ord('q')):\n",
    "        break\n",
    "    \"\"\"\n",
    "\n",
    "cap.release()\n",
    "cv2.destroyAllWindows()"
   ]
  },
  {
   "cell_type": "markdown",
   "metadata": {},
   "source": [
    "## Into Grayscale image"
   ]
  },
  {
   "cell_type": "code",
   "execution_count": 5,
   "metadata": {},
   "outputs": [],
   "source": [
    "cap = cv2.VideoCapture(0)\n",
    "\n",
    "while(True):\n",
    "    ret, frame = cap.read()\n",
    "    if(ret == False):\n",
    "        continue\n",
    "    newimg = cv2.cvtColor(frame, cv2.COLOR_RGB2GRAY)\n",
    "    # will give 2 types of videos one colored and other grayscaled\n",
    "    cv2.imshow(\"Video Frame\", frame)\n",
    "    cv2.imshow(\"Gray\", newimg)\n",
    "    if(cv2.waitKey(1) == ord('q')):\n",
    "        break\n",
    "cap.release()\n",
    "cv2.destroyAllWindows()"
   ]
  }
 ],
 "metadata": {
  "kernelspec": {
   "display_name": "Python 3",
   "language": "python",
   "name": "python3"
  },
  "language_info": {
   "codemirror_mode": {
    "name": "ipython",
    "version": 3
   },
   "file_extension": ".py",
   "mimetype": "text/x-python",
   "name": "python",
   "nbconvert_exporter": "python",
   "pygments_lexer": "ipython3",
   "version": "3.7.0"
  }
 },
 "nbformat": 4,
 "nbformat_minor": 2
}
