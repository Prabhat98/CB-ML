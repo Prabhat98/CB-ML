{
 "cells": [
  {
   "cell_type": "code",
   "execution_count": 7,
   "metadata": {},
   "outputs": [
    {
     "name": "stdout",
     "output_type": "stream",
     "text": [
      "(506, 13) (506,)\n",
      "(404, 13) (404,)\n",
      "(102, 13) (102,)\n",
      "[-1.05870496e-01  4.59193300e-02  1.59013801e-02  3.17086469e+00\n",
      " -1.83883535e+01  4.40143183e+00 -5.89502808e-03 -1.46292692e+00\n",
      "  3.01404967e-01 -1.21367133e-02 -9.37665626e-01  1.20054873e-02\n",
      " -4.41492691e-01]\n",
      "31.173055041914235\n"
     ]
    }
   ],
   "source": [
    "from sklearn.datasets import load_boston\n",
    "from sklearn.model_selection import train_test_split\n",
    "from sklearn.linear_model import LinearRegression\n",
    "\n",
    "boston = load_boston()\n",
    "x = boston.data\n",
    "y = boston.target\n",
    "print(x.shape, y.shape) # x with 506 examples and 13 features each\n",
    "\n",
    "# Splitting the data into training and testing samples\n",
    "\n",
    "x_train, x_test, y_train, y_test = train_test_split(x, y, test_size = 0.2)\n",
    "print(x_train.shape, y_train.shape)\n",
    "print(x_test.shape, y_test.shape)\n",
    "\n",
    "# Training the algorithm\n",
    "\n",
    "lr = LinearRegression()\n",
    "lr.fit(x_train, y_train)\n",
    "print(lr.coef_)\n",
    "print(lr.intercept_)"
   ]
  },
  {
   "cell_type": "code",
   "execution_count": 22,
   "metadata": {},
   "outputs": [
    {
     "name": "stdout",
     "output_type": "stream",
     "text": [
      "0.7446924196071896\n",
      "0.7120899698210558\n"
     ]
    }
   ],
   "source": [
    "print(lr.score(x_train, y_train))\n",
    "print(lr.score(x_test, y_test))"
   ]
  },
  {
   "cell_type": "markdown",
   "metadata": {},
   "source": [
    "## Cross Validation"
   ]
  },
  {
   "cell_type": "code",
   "execution_count": 26,
   "metadata": {},
   "outputs": [
    {
     "name": "stdout",
     "output_type": "stream",
     "text": [
      "[0.73506186 0.70917305 0.63567735 0.71574253 0.85677266 0.46933257\n",
      " 0.85797945 0.57060929 0.77825696 0.75400303]\n",
      "0.7082608747000418\n",
      "0.1155600967939588\n"
     ]
    }
   ],
   "source": [
    "from sklearn.model_selection import cross_val_score\n",
    "\n",
    "scores = cross_val_score(lr, x_train, y_train, cv = 10, scoring = 'r2')\n",
    "print(scores)\n",
    "\n",
    "# mean score of cross validation is different from the lr.score that we performed on training set\n",
    "\n",
    "print(scores.mean())\n",
    "print(scores.std()) # standard deviation of 0.11, i.e score will be 0.70 +- 0.11"
   ]
  },
  {
   "cell_type": "code",
   "execution_count": 31,
   "metadata": {},
   "outputs": [
    {
     "name": "stdout",
     "output_type": "stream",
     "text": [
      "[ 0.61877844 -0.56717081  0.76934467  0.37121774  0.76265709  0.775365\n",
      "  0.77783583  0.70691205  0.81648314  0.73710297]\n",
      "0.5768526124449347\n",
      "0.4005283278430051\n"
     ]
    }
   ],
   "source": [
    "test_scores = cross_val_score(lr, x_test, y_test, cv = 10, scoring = \"r2\")\n",
    "print(test_scores)\n",
    "\n",
    "# cross validation score differ from the lr.score performed on testing set\n",
    "\n",
    "print(test_scores.mean())\n",
    "print(test_scores.std())"
   ]
  }
 ],
 "metadata": {
  "kernelspec": {
   "display_name": "Python 3",
   "language": "python",
   "name": "python3"
  },
  "language_info": {
   "codemirror_mode": {
    "name": "ipython",
    "version": 3
   },
   "file_extension": ".py",
   "mimetype": "text/x-python",
   "name": "python",
   "nbconvert_exporter": "python",
   "pygments_lexer": "ipython3",
   "version": "3.7.0"
  }
 },
 "nbformat": 4,
 "nbformat_minor": 2
}
