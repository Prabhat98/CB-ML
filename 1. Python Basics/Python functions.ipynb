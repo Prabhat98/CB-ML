{
 "cells": [
  {
   "cell_type": "markdown",
   "metadata": {},
   "source": [
    "## Exception handling in python\n",
    "### Python has many built in exceptions which forces the program to output an error when something in it goes \n",
    "### wrong. \n",
    "## Try\n",
    "- A critical operation that can raise an exception is put inside the try clause \n",
    "\n",
    "## Except\n",
    "- This is the clause that handles the exception if it is raised by try block\n",
    "\n",
    "## Finally\n",
    "- This is an optional clause and is executed no matter what, if there is an exception or there isn't it will be executed\n",
    "\n",
    "### It is upto us what operations to perform once we've caught the exception\n",
    "### Try raises the exception and except handles the exception if there is one"
   ]
  },
  {
   "cell_type": "code",
   "execution_count": 12,
   "metadata": {},
   "outputs": [
    {
     "name": "stdout",
     "output_type": "stream",
     "text": [
      "Wrapping up\n"
     ]
    },
    {
     "data": {
      "text/plain": [
       "5.0"
      ]
     },
     "execution_count": 12,
     "metadata": {},
     "output_type": "execute_result"
    }
   ],
   "source": [
    "# finally block will always execute whether or not return statement was encountered or not \n",
    "def div(a, b):\n",
    "    try:\n",
    "        return(a/b)\n",
    "    except:\n",
    "        print(\"Error\")\n",
    "    finally:\n",
    "        print(\"Wrapping up\")\n",
    "div(10, 2)"
   ]
  },
  {
   "cell_type": "code",
   "execution_count": 14,
   "metadata": {},
   "outputs": [
    {
     "name": "stdout",
     "output_type": "stream",
     "text": [
      "Wrapping up\n"
     ]
    },
    {
     "data": {
      "text/plain": [
       "23"
      ]
     },
     "execution_count": 14,
     "metadata": {},
     "output_type": "execute_result"
    }
   ],
   "source": [
    "# when we add a return statement inside the finally block, then fucntion will always evaluate return statement in finally block\n",
    "# and discard the return statement of try block\n",
    "# the function will always be evaluated to what return statement does finally block has, if it has one\n",
    "def div(a, b):\n",
    "    try:\n",
    "        return(a/b)\n",
    "    except:\n",
    "        print(\"Error\")\n",
    "    finally:\n",
    "        print(\"Wrapping up\")\n",
    "        return 23\n",
    "div(10, 2)"
   ]
  },
  {
   "cell_type": "markdown",
   "metadata": {},
   "source": [
    "## Local and global variables"
   ]
  },
  {
   "cell_type": "code",
   "execution_count": 19,
   "metadata": {},
   "outputs": [
    {
     "name": "stdout",
     "output_type": "stream",
     "text": [
      "15\n",
      "15\n"
     ]
    }
   ],
   "source": [
    "# global variable\n",
    "x = 10\n",
    "def show():\n",
    "    # local variable\n",
    "    # x = 5\n",
    "    # here we are trying to update the value of global variable which is not recognized in this function\n",
    "    # here there is no local variable x and we are trying to update it;s value\n",
    "    # by default it dowsn't recognize x as global variable\n",
    "    # x = x + 5\n",
    "    # telling that we will use global x inside this function\n",
    "    global x\n",
    "    x = x + 5\n",
    "    print(x)\n",
    "show()\n",
    "print(x)"
   ]
  },
  {
   "cell_type": "code",
   "execution_count": 21,
   "metadata": {},
   "outputs": [
    {
     "name": "stdout",
     "output_type": "stream",
     "text": [
      "local\n",
      "10\n"
     ]
    }
   ],
   "source": [
    "x = 10\n",
    "def give():\n",
    "    y = \"local\"\n",
    "    print(y)\n",
    "give()\n",
    "print(x)\n",
    "# local variable y is not in global namespace so this throws an error\n",
    "# print(y)"
   ]
  },
  {
   "cell_type": "markdown",
   "metadata": {},
   "source": [
    "### Enclosure"
   ]
  },
  {
   "cell_type": "code",
   "execution_count": 24,
   "metadata": {},
   "outputs": [
    {
     "name": "stdout",
     "output_type": "stream",
     "text": [
      "local\n"
     ]
    }
   ],
   "source": [
    "# python allows us to create functions within functions coz everything in python is treated as objects\n",
    "def outer():\n",
    "    x = \"local\"\n",
    "    def inner():\n",
    "        print(x)\n",
    "    inner()\n",
    "outer()"
   ]
  },
  {
   "cell_type": "code",
   "execution_count": 30,
   "metadata": {},
   "outputs": [
    {
     "name": "stdout",
     "output_type": "stream",
     "text": [
      "10\n"
     ]
    }
   ],
   "source": [
    "def outer():\n",
    "    x = 5\n",
    "    def inner():\n",
    "        # this throws an error because by default it looks for x in the local namespace\n",
    "        # x = x + 5\n",
    "        # even though we do\n",
    "        # global x\n",
    "        # it still throws the error because rahter than looking in the closure of outer or enclosing function\n",
    "        # it is looking in the global namespace which doesn't exist\n",
    "        # x = x + 5\n",
    "        # in order to achieve what we need we've\n",
    "        # this tells python that x is not local to this function but in the enclosing function, then it looks for \n",
    "        # x in the enclosing function\n",
    "        nonlocal x\n",
    "        x = x + 5\n",
    "        print(x)\n",
    "    inner()\n",
    "outer()"
   ]
  },
  {
   "cell_type": "code",
   "execution_count": 34,
   "metadata": {},
   "outputs": [
    {
     "name": "stdout",
     "output_type": "stream",
     "text": [
      "world\n",
      "py\n",
      "hello\n"
     ]
    }
   ],
   "source": [
    "def prin(a, b, c):# formal paramters\n",
    "    print(a)\n",
    "    print(b)\n",
    "    print(c)\n",
    "# explicitly telling the interpreter the value of formal parameters\n",
    "# these are called as keyword arguments\n",
    "prin(c = \"hello\",a = \"world\",b = \"py\")# actual parameters"
   ]
  },
  {
   "cell_type": "code",
   "execution_count": 35,
   "metadata": {},
   "outputs": [],
   "source": [
    "# similarly end and sep are also keyword arguments as well"
   ]
  },
  {
   "cell_type": "markdown",
   "metadata": {},
   "source": [
    "## Packing arguments"
   ]
  },
  {
   "cell_type": "code",
   "execution_count": 37,
   "metadata": {},
   "outputs": [
    {
     "name": "stdout",
     "output_type": "stream",
     "text": [
      "(1, 2, 3, 'hello')\n"
     ]
    }
   ],
   "source": [
    "# rather than giving too many arguments we could just simply use *args, it's not anywhere related to pointers\n",
    "# for given any number of arguments it packs all the arguments into one tuple and passes it to the function as *args\n",
    "def show(*args):\n",
    "    print(args)\n",
    "# sso by default we get a packed iterable object which we can use\n",
    "show(1, 2, 3, \"hello\")"
   ]
  },
  {
   "cell_type": "code",
   "execution_count": 39,
   "metadata": {},
   "outputs": [
    {
     "name": "stdout",
     "output_type": "stream",
     "text": [
      "2 3 5 ('pyho',)\n"
     ]
    }
   ],
   "source": [
    "# we can specify that there are 3 required positional arguments and the rest left behind positional arguments can be packed\n",
    "# into the args, so vis accepts at least three arguments\n",
    "def vis(a, b, c, *args):\n",
    "    print(a, b, c, args)\n",
    "vis(2, 3, 5, \"pyho\")"
   ]
  },
  {
   "cell_type": "code",
   "execution_count": 43,
   "metadata": {},
   "outputs": [
    {
     "name": "stdout",
     "output_type": "stream",
     "text": [
      "2 3 5 ('pyho',)\n",
      "499\n",
      "80\n"
     ]
    }
   ],
   "source": [
    "# all the positional arguments after c will be packed into args and if we want to change the value of d then we'd need \n",
    "# to do that explicitly\n",
    "def this(a, b, c, *args, d = 500, e = 80):\n",
    "    print(a, b, c, args)\n",
    "    print(d)\n",
    "    print(e)\n",
    "this(2, 3, 5, \"pyho\", d = 499)"
   ]
  },
  {
   "cell_type": "code",
   "execution_count": 46,
   "metadata": {},
   "outputs": [
    {
     "name": "stdout",
     "output_type": "stream",
     "text": [
      "2 3 5 ('pyho',)\n",
      "499\n",
      "80\n",
      "{'name': 'prabhat'}\n"
     ]
    }
   ],
   "source": [
    "# all the keyworded arguments swill be packed as a dictionary in this kwargs\n",
    "def this(a, b, c, *args, d = 500, e = 80, **kwargs):\n",
    "    print(a, b, c, args)\n",
    "    print(d)\n",
    "    print(e)\n",
    "    print(kwargs)\n",
    "# now this function has never seen the argument name before, this this will be packed as dictionary in kwargs\n",
    "this(2, 3, 5, \"pyho\", d = 499, name = \"prabhat\")"
   ]
  },
  {
   "cell_type": "markdown",
   "metadata": {},
   "source": [
    "## Order: Required positional arguments > args > default keyword arguments > kwargs"
   ]
  },
  {
   "cell_type": "markdown",
   "metadata": {},
   "source": [
    "## Lambda function: syntactical sugar"
   ]
  },
  {
   "cell_type": "code",
   "execution_count": 48,
   "metadata": {},
   "outputs": [
    {
     "name": "stdout",
     "output_type": "stream",
     "text": [
      "<function add at 0x000002C2AAA99D90>\n"
     ]
    }
   ],
   "source": [
    "# one liner functions designed to make things easy\n",
    "def add(a, b):\n",
    "    return a+b\n",
    "# now creating the above function into lambda function, as everything in python is an object so a function can be treated \n",
    "# as an object too\n",
    "# add is an object too\n",
    "print(add)\n"
   ]
  },
  {
   "cell_type": "code",
   "execution_count": 1,
   "metadata": {},
   "outputs": [
    {
     "name": "stdout",
     "output_type": "stream",
     "text": [
      "<function <lambda> at 0x000002501660CAE8>\n"
     ]
    },
    {
     "data": {
      "text/plain": [
       "2"
      ]
     },
     "execution_count": 1,
     "metadata": {},
     "output_type": "execute_result"
    }
   ],
   "source": [
    "# lambda creates a function in a single line, there will be only one line in the body of lambda function and that will be \n",
    "# evaluated and returned\n",
    "ad = lambda a, b: a+b\n",
    "# the above is the syntax of lambda function, the comma separated arguments that it takes and the single line after : to be \n",
    "# executed\n",
    "print(ad)\n",
    "ad(1, 1)"
   ]
  },
  {
   "cell_type": "markdown",
   "metadata": {},
   "source": [
    "## Decorators"
   ]
  },
  {
   "cell_type": "markdown",
   "metadata": {},
   "source": [
    "## TBD NU"
   ]
  },
  {
   "cell_type": "code",
   "execution_count": null,
   "metadata": {},
   "outputs": [],
   "source": []
  }
 ],
 "metadata": {
  "kernelspec": {
   "display_name": "Python 3",
   "language": "python",
   "name": "python3"
  },
  "language_info": {
   "codemirror_mode": {
    "name": "ipython",
    "version": 3
   },
   "file_extension": ".py",
   "mimetype": "text/x-python",
   "name": "python",
   "nbconvert_exporter": "python",
   "pygments_lexer": "ipython3",
   "version": "3.7.0"
  }
 },
 "nbformat": 4,
 "nbformat_minor": 2
}
