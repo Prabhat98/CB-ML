{
 "cells": [
  {
   "cell_type": "markdown",
   "metadata": {},
   "source": [
    "## Inbuilt Data structures in python"
   ]
  },
  {
   "cell_type": "markdown",
   "metadata": {},
   "source": [
    "### Lists\n",
    "#### Lists are like heterogeneous arrays"
   ]
  },
  {
   "cell_type": "code",
   "execution_count": 14,
   "metadata": {},
   "outputs": [
    {
     "name": "stdout",
     "output_type": "stream",
     "text": [
      "<class 'list'>\n"
     ]
    },
    {
     "data": {
      "text/plain": [
       "[1, 2, 'hello', 4.5, True]"
      ]
     },
     "execution_count": 14,
     "metadata": {},
     "output_type": "execute_result"
    }
   ],
   "source": [
    "mylist = [1, 2, \"hello\", 4.5, True]\n",
    "print(type(mylist))\n",
    "mylist"
   ]
  },
  {
   "cell_type": "code",
   "execution_count": 8,
   "metadata": {},
   "outputs": [
    {
     "name": "stdout",
     "output_type": "stream",
     "text": [
      "[1, 2, 3, 'q']\n",
      "<class 'list'>\n",
      "[1, 2, 3, 'q']\n"
     ]
    }
   ],
   "source": [
    "# another way of defining a list is by using list function\n",
    "a = list([1, 2, 3, 'q'])\n",
    "print(a)\n",
    "print(type(a))\n",
    "b = list([1, 2, 3, 'q'])\n",
    "print(b)"
   ]
  },
  {
   "cell_type": "code",
   "execution_count": 11,
   "metadata": {},
   "outputs": [
    {
     "name": "stdout",
     "output_type": "stream",
     "text": [
      "[1, 4, 9, 16, 25]\n"
     ]
    }
   ],
   "source": [
    "# creating lists using for loops and conditions\n",
    "square = [i*i for i in range(1,6)]\n",
    "print(square)"
   ]
  },
  {
   "cell_type": "code",
   "execution_count": 15,
   "metadata": {},
   "outputs": [
    {
     "name": "stdout",
     "output_type": "stream",
     "text": [
      "[1, 2, 3, 4, 5, 6, 7, 8]\n",
      "[5, 6, 7, 8, 1, 2, 3, 4]\n"
     ]
    }
   ],
   "source": [
    "lista = [1, 2, 3, 4]\n",
    "listb = [5, 6, 7, 8]\n",
    "# adding two lists just concatinates them\n",
    "# it just extends the lists by these elements and it is different from appending\n",
    "print(lista + listb)\n",
    "print(listb + lista)"
   ]
  },
  {
   "cell_type": "code",
   "execution_count": 44,
   "metadata": {},
   "outputs": [
    {
     "name": "stdout",
     "output_type": "stream",
     "text": [
      "[1, 2, 3, 4, 5, 6, 7, 8, 5, 6, 7, 8, 5, 6, 7, 8, 5, 6, 7, 8, 5, 6, 7, 8, 5, 6, 7, 8, 5, 6, 7, 8, 5, 6, 7, 8, 5, 6, 7, 8, 5, 6, 7, 8, 5, 6, 7, 8, 5, 6, 7, 8, 5, 6, 7, 8, 5, 6, 7, 8, 5, 6, 7, 8, 5, 6, 7, 8, 5, 6, 7, 8, 5, 6, 7, 8, 5, 6, 7, 8]\n",
      "[5, 6, 7, 8]\n"
     ]
    }
   ],
   "source": [
    "# similarly extend() can be used to merge two lists\n",
    "# everytime we run this cell it mergers listb at the end of lista\n",
    "lista.extend(listb)\n",
    "print(lista)\n",
    "print(listb)"
   ]
  },
  {
   "cell_type": "markdown",
   "metadata": {},
   "source": [
    "## Insertion and Deletion"
   ]
  },
  {
   "cell_type": "code",
   "execution_count": 48,
   "metadata": {},
   "outputs": [
    {
     "name": "stdout",
     "output_type": "stream",
     "text": [
      "[1, 2, 3, 5]\n",
      "[1, 2, 3, 5, [6, 7]]\n"
     ]
    }
   ],
   "source": [
    "# append inserts elements at the ending of the list\n",
    "l1 = [1, 2, 3]\n",
    "l1.append(5)\n",
    "print(l1)\n",
    "# nested lists or 2d arrays\n",
    "# these appended elements go to the 4th index of the list\n",
    "l1.append([6, 7])\n",
    "print(l1)"
   ]
  },
  {
   "cell_type": "code",
   "execution_count": 61,
   "metadata": {},
   "outputs": [
    {
     "name": "stdout",
     "output_type": "stream",
     "text": [
      "[1, 22]\n"
     ]
    }
   ],
   "source": [
    "# inserting an element at a specific position\n",
    "# first argument corresponds to the index and second corresponds to the data\n",
    "l1.insert(1, 22)\n",
    "print(l1)"
   ]
  },
  {
   "cell_type": "code",
   "execution_count": 52,
   "metadata": {},
   "outputs": [
    {
     "name": "stdout",
     "output_type": "stream",
     "text": [
      "[1, 2, 3, [6, 7]]\n"
     ]
    },
    {
     "ename": "ValueError",
     "evalue": "list.remove(x): x not in list",
     "output_type": "error",
     "traceback": [
      "\u001b[1;31m---------------------------------------------------------------------------\u001b[0m",
      "\u001b[1;31mValueError\u001b[0m                                Traceback (most recent call last)",
      "\u001b[1;32m<ipython-input-52-75b77fa65c6a>\u001b[0m in \u001b[0;36m<module>\u001b[1;34m()\u001b[0m\n\u001b[0;32m      1\u001b[0m \u001b[1;31m# removing element from the list by value\u001b[0m\u001b[1;33m\u001b[0m\u001b[1;33m\u001b[0m\u001b[0m\n\u001b[0;32m      2\u001b[0m \u001b[0mprint\u001b[0m\u001b[1;33m(\u001b[0m\u001b[0ml1\u001b[0m\u001b[1;33m)\u001b[0m\u001b[1;33m\u001b[0m\u001b[0m\n\u001b[1;32m----> 3\u001b[1;33m \u001b[0ml1\u001b[0m\u001b[1;33m.\u001b[0m\u001b[0mremove\u001b[0m\u001b[1;33m(\u001b[0m\u001b[1;36m5\u001b[0m\u001b[1;33m)\u001b[0m\u001b[1;33m\u001b[0m\u001b[0m\n\u001b[0m\u001b[0;32m      4\u001b[0m \u001b[0mprint\u001b[0m\u001b[1;33m(\u001b[0m\u001b[0ml1\u001b[0m\u001b[1;33m)\u001b[0m\u001b[1;33m\u001b[0m\u001b[0m\n",
      "\u001b[1;31mValueError\u001b[0m: list.remove(x): x not in list"
     ]
    }
   ],
   "source": [
    "# removing element from the list by value\n",
    "print(l1)\n",
    "l1.remove(5)\n",
    "print(l1)\n",
    "# throws an error because element 5 is already removed "
   ]
  },
  {
   "cell_type": "code",
   "execution_count": 54,
   "metadata": {},
   "outputs": [
    {
     "name": "stdout",
     "output_type": "stream",
     "text": [
      "[1, 2]\n"
     ]
    }
   ],
   "source": [
    "# removing element by index\n",
    "del l1[2]\n",
    "print(l1)"
   ]
  },
  {
   "cell_type": "code",
   "execution_count": 55,
   "metadata": {},
   "outputs": [
    {
     "name": "stdout",
     "output_type": "stream",
     "text": [
      "[1]\n"
     ]
    }
   ],
   "source": [
    "# popping removes element from the last of the list\n",
    "l1.pop()\n",
    "print(l1)"
   ]
  },
  {
   "cell_type": "code",
   "execution_count": 57,
   "metadata": {},
   "outputs": [
    {
     "name": "stdout",
     "output_type": "stream",
     "text": [
      "[1, 2, 3, 4, 1, 2, 3, 4, 1, 2, 3, 4, 1, 2, 3, 4]\n"
     ]
    }
   ],
   "source": [
    "mylist = [1, 2, 3, 4]\n",
    "mylist = mylist*4\n",
    "# repeats the list four times\n",
    "print(mylist)"
   ]
  },
  {
   "cell_type": "code",
   "execution_count": 59,
   "metadata": {},
   "outputs": [
    {
     "name": "stdout",
     "output_type": "stream",
     "text": [
      "1\n",
      "2\n",
      "3\n",
      "4\n",
      "1\n",
      "2\n",
      "3\n",
      "4\n",
      "1\n",
      "2\n",
      "3\n",
      "4\n",
      "1\n",
      "2\n",
      "3\n",
      "4\n"
     ]
    }
   ],
   "source": [
    "# running a for lop in a list\n",
    "for i in mylist:\n",
    "    print(i)"
   ]
  },
  {
   "cell_type": "code",
   "execution_count": 60,
   "metadata": {},
   "outputs": [
    {
     "name": "stdout",
     "output_type": "stream",
     "text": [
      "1\n",
      "2\n",
      "3\n",
      "4\n",
      "1\n",
      "2\n",
      "3\n",
      "4\n",
      "1\n",
      "2\n",
      "3\n",
      "4\n",
      "1\n",
      "2\n",
      "3\n",
      "4\n"
     ]
    }
   ],
   "source": [
    "# for loop in a list\n",
    "for x in range(len(mylist)):\n",
    "    print(mylist[x])"
   ]
  },
  {
   "cell_type": "markdown",
   "metadata": {},
   "source": [
    "## More functions on lists\n",
    "- Searching\n",
    "- Sorting"
   ]
  },
  {
   "cell_type": "code",
   "execution_count": 64,
   "metadata": {},
   "outputs": [
    {
     "name": "stdout",
     "output_type": "stream",
     "text": [
      "6\n",
      "1\n",
      "2\n"
     ]
    }
   ],
   "source": [
    "listmy = [1, 2, 3, 4, 5, 6]\n",
    "# max and min values in a list\n",
    "print(max(listmy))\n",
    "print(min(listmy))\n",
    "# tell the index of a value, like a linear search\n",
    "print(listmy.index(3))"
   ]
  },
  {
   "cell_type": "code",
   "execution_count": 72,
   "metadata": {},
   "outputs": [
    {
     "name": "stdout",
     "output_type": "stream",
     "text": [
      "[3, 6, 7, 9, 12, 22, 45]\n",
      "[6, 7, 9, 3, 12, 45, 22]\n"
     ]
    },
    {
     "data": {
      "text/plain": [
       "[3, 6, 7, 9, 12, 22, 45]"
      ]
     },
     "execution_count": 72,
     "metadata": {},
     "output_type": "execute_result"
    }
   ],
   "source": [
    "# sorting returns a copy of the list and doesn't modify the original list\n",
    "mlist = [6, 7, 9, 3, 12, 45, 22]\n",
    "print(sorted(mlist))\n",
    "print(mlist)\n",
    "# using sort function, it modifies the original list\n",
    "mlist.sort()\n",
    "mlist"
   ]
  },
  {
   "cell_type": "code",
   "execution_count": 74,
   "metadata": {},
   "outputs": [
    {
     "data": {
      "text/plain": [
       "[45, 22, 12, 9, 7, 6, 3]"
      ]
     },
     "execution_count": 74,
     "metadata": {},
     "output_type": "execute_result"
    }
   ],
   "source": [
    "# to reverse sort a list\n",
    "mlist.sort(reverse = True)\n",
    "mlist"
   ]
  },
  {
   "cell_type": "code",
   "execution_count": 76,
   "metadata": {},
   "outputs": [
    {
     "data": {
      "text/plain": [
       "[1, 12, 22, 34, 45, 101]"
      ]
     },
     "execution_count": 76,
     "metadata": {},
     "output_type": "execute_result"
    }
   ],
   "source": [
    "alist = [34, 45, 22, 1, 101, 12]\n",
    "alist.sort()\n",
    "alist"
   ]
  },
  {
   "cell_type": "code",
   "execution_count": 78,
   "metadata": {},
   "outputs": [
    {
     "data": {
      "text/plain": [
       "[1, 12, 22, 34, 45, 101]"
      ]
     },
     "execution_count": 78,
     "metadata": {},
     "output_type": "execute_result"
    }
   ],
   "source": [
    "alist"
   ]
  },
  {
   "cell_type": "markdown",
   "metadata": {},
   "source": [
    "## Reading a list of numbers"
   ]
  },
  {
   "cell_type": "code",
   "execution_count": 81,
   "metadata": {
    "scrolled": true
   },
   "outputs": [
    {
     "name": "stdout",
     "output_type": "stream",
     "text": [
      "1 2 3 4 6\n",
      "1 2 3 4 6\n",
      "<class 'str'>\n"
     ]
    }
   ],
   "source": [
    "# Reading a list of numbers form the user\n",
    "numbers = input()\n",
    "print(numbers)\n",
    "# it prints type as string \n",
    "print(type(numbers))"
   ]
  },
  {
   "cell_type": "code",
   "execution_count": 2,
   "metadata": {},
   "outputs": [
    {
     "name": "stdout",
     "output_type": "stream",
     "text": [
      "1 2 3 4\n",
      "<class 'list'>\n",
      "['1', '2', '3', '4']\n"
     ]
    }
   ],
   "source": [
    "#in order to create a list we'd need to split the input, so that every input becomes a single element in the list\n",
    "num = input().split()\n",
    "print(type(num))\n",
    "# we get a list of numbers but these numbers are not integers, these are still strings\n",
    "print(num)\n",
    "# in order to convert them to integers we simply can't use int() method because that'd as whole convert the list to integer\n",
    "# which makes no sense, so we will use a loop to iterate over each element"
   ]
  },
  {
   "cell_type": "code",
   "execution_count": 5,
   "metadata": {},
   "outputs": [
    {
     "name": "stdout",
     "output_type": "stream",
     "text": [
      "1 2 3 4 5\n",
      "<class 'list'>\n",
      "[1, 2, 3, 4, 5]\n"
     ]
    }
   ],
   "source": [
    "# same like as done in cell 11 to print square of numbers \n",
    "# here we are specifying what we want and then iterating a loop over the input\n",
    "numb = [int(i) for i in input().split()]\n",
    "print(type(numb))\n",
    "# and we get type to be a list and input to be integers\n",
    "print(numb)"
   ]
  },
  {
   "cell_type": "code",
   "execution_count": 6,
   "metadata": {},
   "outputs": [
    {
     "name": "stdout",
     "output_type": "stream",
     "text": [
      "1 2 3 4 5 6\n",
      "<class 'list'>\n",
      "[1, 4, 9, 16, 25, 36]\n"
     ]
    }
   ],
   "source": [
    "# applying similar approach to get square of numbers through users input\n",
    "sq = [int(i)*int(i) for i in input().split()]\n",
    "print(type(sq))\n",
    "print(sq)"
   ]
  },
  {
   "cell_type": "markdown",
   "metadata": {},
   "source": [
    "## Dictionaries in Python "
   ]
  },
  {
   "cell_type": "code",
   "execution_count": 10,
   "metadata": {},
   "outputs": [
    {
     "name": "stdout",
     "output_type": "stream",
     "text": [
      "<class 'dict'>\n"
     ]
    },
    {
     "data": {
      "text/plain": [
       "789"
      ]
     },
     "execution_count": 10,
     "metadata": {},
     "output_type": "execute_result"
    }
   ],
   "source": [
    "# this is a way to represent a dictionary \n",
    "D = {}\n",
    "print(type(D))\n",
    "D = {'abc':123, 'def':456, 'ghi':789}\n",
    "D['ghi']"
   ]
  },
  {
   "cell_type": "code",
   "execution_count": 17,
   "metadata": {},
   "outputs": [
    {
     "name": "stdout",
     "output_type": "stream",
     "text": [
      "{'abc': 123, 'def': 456, 'ghi': 789, 'jkl': 101, 'mno': [120, 121], 'pqr': {'a': 1, 'b': 2, 'c': 3}}\n",
      "{'abc': 123, 'def': 456, 'ghi': 789, 'jkl': 101, 'mno': [120, 121], 'pqr': {'a': 1, 'b': 2, 'c': 3}}\n",
      "{'abc': 123, 'def': 456, 'ghi': 789, 'jkl': 101, 'mno': [120, 121], 'pqr': {'a': 1, 'b': 2, 'c': 3}}\n",
      "2\n"
     ]
    }
   ],
   "source": [
    "# to insert values in the dictionary\n",
    "D['jkl'] = 101\n",
    "print(D)\n",
    "# value can be anything, even a list\n",
    "D['mno'] = [120, 121]\n",
    "print(D)\n",
    "D['pqr'] = {'a':1, 'b':2, 'c':3}\n",
    "print(D)\n",
    "# to get the particular value of nested dictionary\n",
    "print(D['pqr']['b'])"
   ]
  },
  {
   "cell_type": "code",
   "execution_count": 19,
   "metadata": {},
   "outputs": [
    {
     "name": "stdout",
     "output_type": "stream",
     "text": [
      "dict_keys(['abc', 'def', 'ghi', 'jkl', 'mno', 'pqr'])\n",
      "dict_values([123, 456, 789, 101, [120, 121], {'a': 1, 'b': 2, 'c': 3}])\n"
     ]
    }
   ],
   "source": [
    "# to get keys and values individually, they return a list of keys and values from dictioinary\n",
    "print(D.keys())\n",
    "print(D.values())"
   ]
  },
  {
   "cell_type": "markdown",
   "metadata": {},
   "source": [
    "## Methods and operators in Dictionary"
   ]
  },
  {
   "cell_type": "code",
   "execution_count": 23,
   "metadata": {},
   "outputs": [
    {
     "name": "stdout",
     "output_type": "stream",
     "text": [
      "None\n"
     ]
    }
   ],
   "source": [
    "# to get a value for a given key, either we could use simply thee index method or the eget method to that\n",
    "# for a key that doesn't exist in the list the index method gives an error while the get method returns none\n",
    "D['mnb']# this one gives an error\n",
    "print(D.get('mnb'))\n"
   ]
  },
  {
   "cell_type": "code",
   "execution_count": 28,
   "metadata": {},
   "outputs": [
    {
     "name": "stdout",
     "output_type": "stream",
     "text": [
      "Does not exist\n"
     ]
    }
   ],
   "source": [
    "# similarly an if statement can also be used in the list \n",
    "if \"ghil\" in D:\n",
    "    print(D[\"ghi\"])\n",
    "else:\n",
    "    print(\"Does not exist\")"
   ]
  },
  {
   "cell_type": "code",
   "execution_count": 32,
   "metadata": {},
   "outputs": [
    {
     "name": "stdout",
     "output_type": "stream",
     "text": [
      "dict_items([('def', 456), ('ghi', 789), ('jkl', 101), ('mno', [120, 121]), ('pqr', {'a': 1, 'b': 2, 'c': 3})])\n",
      "[('def', 456), ('ghi', 789), ('jkl', 101), ('mno', [120, 121]), ('pqr', {'a': 1, 'b': 2, 'c': 3})]\n"
     ]
    },
    {
     "ename": "KeyError",
     "evalue": "'abc'",
     "output_type": "error",
     "traceback": [
      "\u001b[1;31m---------------------------------------------------------------------------\u001b[0m",
      "\u001b[1;31mKeyError\u001b[0m                                  Traceback (most recent call last)",
      "\u001b[1;32m<ipython-input-32-8a908f1b692d>\u001b[0m in \u001b[0;36m<module>\u001b[1;34m()\u001b[0m\n\u001b[0;32m      4\u001b[0m \u001b[0mprint\u001b[0m\u001b[1;33m(\u001b[0m\u001b[0mli\u001b[0m\u001b[1;33m)\u001b[0m\u001b[1;33m\u001b[0m\u001b[0m\n\u001b[0;32m      5\u001b[0m \u001b[1;31m# to delete a particular key-value\u001b[0m\u001b[1;33m\u001b[0m\u001b[1;33m\u001b[0m\u001b[0m\n\u001b[1;32m----> 6\u001b[1;33m \u001b[1;32mdel\u001b[0m \u001b[0mD\u001b[0m\u001b[1;33m[\u001b[0m\u001b[1;34m'abc'\u001b[0m\u001b[1;33m]\u001b[0m\u001b[1;33m\u001b[0m\u001b[0m\n\u001b[0m\u001b[0;32m      7\u001b[0m \u001b[0mprint\u001b[0m\u001b[1;33m(\u001b[0m\u001b[0mD\u001b[0m\u001b[1;33m)\u001b[0m\u001b[1;33m\u001b[0m\u001b[0m\n",
      "\u001b[1;31mKeyError\u001b[0m: 'abc'"
     ]
    }
   ],
   "source": [
    "# items() method returns a list of tuples \n",
    "print(D.items())\n",
    "li = list(D.items())\n",
    "print(li)\n",
    "# to delete a particular key-value\n",
    "del D['abc']\n",
    "print(D)"
   ]
  },
  {
   "cell_type": "code",
   "execution_count": 34,
   "metadata": {},
   "outputs": [
    {
     "name": "stdout",
     "output_type": "stream",
     "text": [
      "{'def': 456, 'ghi': 789, 'jkl': 101, 'mno': [120, 121], 'pqr': {'a': 1, 'b': 2, 'c': 3}, 'asd': 332, 'ftr': 667, 'wer': 990}\n"
     ]
    }
   ],
   "source": [
    "# to merge two dictionaries\n",
    "D2 = {'asd':332, 'ftr':667, 'wer':990}\n",
    "D.update(D2)\n",
    "print(D)"
   ]
  },
  {
   "cell_type": "code",
   "execution_count": 37,
   "metadata": {},
   "outputs": [
    {
     "name": "stdout",
     "output_type": "stream",
     "text": [
      "8\n"
     ]
    }
   ],
   "source": [
    "# to get total number of key value pairs, i.e total lenght of dict\n",
    "print(len(D))"
   ]
  },
  {
   "cell_type": "code",
   "execution_count": 39,
   "metadata": {},
   "outputs": [
    {
     "name": "stdout",
     "output_type": "stream",
     "text": [
      "{}\n"
     ]
    }
   ],
   "source": [
    "# to remove all the elements of dictionary\n",
    "D.clear()\n",
    "print(D)"
   ]
  },
  {
   "cell_type": "code",
   "execution_count": 43,
   "metadata": {},
   "outputs": [
    {
     "name": "stdout",
     "output_type": "stream",
     "text": [
      "<zip object at 0x000002010B010908>\n",
      "{'a': 1, 'b': 2, 'c': 3}\n",
      "<class 'dict'>\n"
     ]
    }
   ],
   "source": [
    "# we've converted a dict to a list, not to go the other way round we'd want to list one for key and other for value\n",
    "# this method is called zip\n",
    "a1 = ['a', 'b', 'c']\n",
    "b1 = [1, 2, 3]\n",
    "# this creates a zip object, a zip zips the corresponding elements of two lists\n",
    "dic = zip(a1, b1)\n",
    "print(dic)\n",
    "# now this zip be converted to dictionary\n",
    "dic = dict(zip(a1, b1))\n",
    "print(dic)\n",
    "print(type(dic))"
   ]
  },
  {
   "cell_type": "code",
   "execution_count": 47,
   "metadata": {},
   "outputs": [
    {
     "name": "stdout",
     "output_type": "stream",
     "text": [
      "a\n",
      "b\n",
      "c\n",
      "a\n",
      "b\n",
      "c\n",
      "1\n",
      "2\n",
      "3\n"
     ]
    }
   ],
   "source": [
    "# by default in a loop it iterates over the keys \n",
    "for i in dic:\n",
    "    print(i)\n",
    "for i in dic.keys():\n",
    "    print(i)\n",
    "for i in dic.values():\n",
    "    print(i)"
   ]
  },
  {
   "cell_type": "markdown",
   "metadata": {},
   "source": [
    "## Tuples"
   ]
  },
  {
   "cell_type": "code",
   "execution_count": 51,
   "metadata": {},
   "outputs": [
    {
     "name": "stdout",
     "output_type": "stream",
     "text": [
      "<class 'tuple'>\n"
     ]
    }
   ],
   "source": [
    "# Tuples are similar to lists, only difference is that it is immutable and objects are enclosed in paranthesis\n",
    "# tuples can be heterogeneous too\n",
    "t= (1, 2, 3, \"Hello\")\n",
    "print(type(t))\n",
    "# the following statement is not valid as tuples are immutable, cannot be changed \n",
    "# t[0] = 6\n"
   ]
  },
  {
   "cell_type": "markdown",
   "metadata": {},
   "source": [
    "## Why use tuple \n",
    "- updation are not allowed in tuples \n",
    "- data is write protected in tuples, data remains constant it cannot change once declared\n",
    "- tuples are faster than lists on iterating over constant items\n",
    "- returns multiple values from a function\n",
    "- just like strings tuples are immutable as well"
   ]
  },
  {
   "cell_type": "code",
   "execution_count": 53,
   "metadata": {},
   "outputs": [
    {
     "name": "stdout",
     "output_type": "stream",
     "text": [
      "<class 'list'>\n",
      "[1, 2, 3, 'Hello']\n",
      "<class 'tuple'>\n",
      "(5, 2, 3, 'Hello')\n"
     ]
    }
   ],
   "source": [
    "# Converting tuples into a list\n",
    "lis = list(t)\n",
    "print(type(lis))\n",
    "# now the list can be updated\n",
    "print(lis)\n",
    "# converting list back to tuple\n",
    "lis[0] = 5\n",
    "lis = tuple(lis)\n",
    "print(type(lis))\n",
    "print(lis)"
   ]
  },
  {
   "cell_type": "code",
   "execution_count": 56,
   "metadata": {},
   "outputs": [
    {
     "name": "stdout",
     "output_type": "stream",
     "text": [
      "(5, 2, 3, 'Hello', 1, 2, 3, 'Hello', 1, 2, 3, 'Hello')\n",
      "(1, 2, 3, 'Hello', 1, 2, 3, 'Hello', 1, 2, 3, 'Hello', 1, 2, 3, 'Hello')\n"
     ]
    }
   ],
   "source": [
    "# concatination of tuples\n",
    "print(lis + t)\n",
    "# repetition, just like lists\n",
    "t = t*2\n",
    "print(t)"
   ]
  },
  {
   "cell_type": "code",
   "execution_count": 58,
   "metadata": {},
   "outputs": [
    {
     "name": "stdout",
     "output_type": "stream",
     "text": [
      "16\n"
     ]
    }
   ],
   "source": [
    "print(len(t))"
   ]
  },
  {
   "cell_type": "code",
   "execution_count": 63,
   "metadata": {},
   "outputs": [
    {
     "name": "stdout",
     "output_type": "stream",
     "text": [
      "9\n",
      "0\n"
     ]
    },
    {
     "ename": "NameError",
     "evalue": "name 't1' is not defined",
     "output_type": "error",
     "traceback": [
      "\u001b[1;31m---------------------------------------------------------------------------\u001b[0m",
      "\u001b[1;31mNameError\u001b[0m                                 Traceback (most recent call last)",
      "\u001b[1;32m<ipython-input-63-4b90dae27cd5>\u001b[0m in \u001b[0;36m<module>\u001b[1;34m()\u001b[0m\n\u001b[0;32m      4\u001b[0m \u001b[1;31m# to delete a tuple\u001b[0m\u001b[1;33m\u001b[0m\u001b[1;33m\u001b[0m\u001b[0m\n\u001b[0;32m      5\u001b[0m \u001b[1;32mdel\u001b[0m \u001b[0mt1\u001b[0m\u001b[1;33m\u001b[0m\u001b[0m\n\u001b[1;32m----> 6\u001b[1;33m \u001b[0mprint\u001b[0m\u001b[1;33m(\u001b[0m\u001b[0mtype\u001b[0m\u001b[1;33m(\u001b[0m\u001b[0mt1\u001b[0m\u001b[1;33m)\u001b[0m\u001b[1;33m)\u001b[0m\u001b[1;33m\u001b[0m\u001b[0m\n\u001b[0m",
      "\u001b[1;31mNameError\u001b[0m: name 't1' is not defined"
     ]
    }
   ],
   "source": [
    "t1 = (1, 2, 5, 0, 6, 9, 3)\n",
    "print(max(t1))\n",
    "print(min(t1))\n",
    "# to delete a tuple\n",
    "del t1\n",
    "print(type(t1))"
   ]
  },
  {
   "cell_type": "markdown",
   "metadata": {},
   "source": [
    "## Set Data Structure in python"
   ]
  },
  {
   "cell_type": "markdown",
   "metadata": {},
   "source": [
    "- sets store unordered unique elements \n",
    "- it is just like sets in maths \n",
    "- major advantage of using sets over list is that it has a highly optimized method for checking whether an element is present \n",
    "- in the set"
   ]
  },
  {
   "cell_type": "code",
   "execution_count": 65,
   "metadata": {},
   "outputs": [
    {
     "name": "stdout",
     "output_type": "stream",
     "text": [
      "{1, 2, 3, 7, 8, 23}\n"
     ]
    }
   ],
   "source": [
    "# in order to create sets we will follow \n",
    "s = set([1, 3, 7, 7, 8, 1, 23, 2, 8])\n",
    "# even though repeting elements were provided in the set it still stored only one instance of those elements\n",
    "# it stores unique element only no matter how many times we repeat it\n",
    "print(s)"
   ]
  },
  {
   "cell_type": "code",
   "execution_count": 67,
   "metadata": {},
   "outputs": [
    {
     "name": "stdout",
     "output_type": "stream",
     "text": [
      "{1, 34, 2, 4, 5, 11, 55, 89}\n"
     ]
    }
   ],
   "source": [
    "s2 = {1, 55, 11, 34, 89, 2, 5, 4}\n",
    "# the result of s2 is not ordered, the ordering is basically done on internal implementation, something similar to hashmaps\n",
    "# it stores in an order in a way that it is efficient in internal implementation\n",
    "print(s2)"
   ]
  },
  {
   "cell_type": "code",
   "execution_count": 76,
   "metadata": {},
   "outputs": [
    {
     "name": "stdout",
     "output_type": "stream",
     "text": [
      "{1, 34, 2, 4, 5, 99, 11, 55, 89}\n",
      "{1, 34, 2, 4, 5, 99, 11, 55, 89}\n",
      "{1, 34, 2, 4, 5, 99, 11, 55, 89}\n",
      "set()\n",
      "set()\n",
      "set()\n",
      "set()\n",
      "set()\n"
     ]
    }
   ],
   "source": [
    "# To add elements to the set\n",
    "s2.add(99)\n",
    "print(s2)\n",
    "# union method forms a set that contains elements from both the set, repeting elements will occur only one\n",
    "print(s.union(s2))\n",
    "# another way of doing the union is \n",
    "print(s | s2)\n",
    "# to perform intersection method, it will give common elements from both\n",
    "print(s & s2)\n",
    "# another way to perform intersection is \n",
    "print(s.intersection(s2))\n",
    "# this removes elements in s which are in s2\n",
    "print(s - s2)\n",
    "# the same could be achieved by\n",
    "print(s.difference(s2))\n",
    "# to remove all the elements from the set\n",
    "s.clear()\n",
    "print(s)"
   ]
  },
  {
   "cell_type": "code",
   "execution_count": 79,
   "metadata": {},
   "outputs": [
    {
     "name": "stdout",
     "output_type": "stream",
     "text": [
      "Present 55\n"
     ]
    }
   ],
   "source": [
    "# to check membership if a particular element is present in a set\n",
    "if 55 in s2:\n",
    "    print(\"Present\", 55)"
   ]
  },
  {
   "cell_type": "code",
   "execution_count": 80,
   "metadata": {},
   "outputs": [
    {
     "name": "stdout",
     "output_type": "stream",
     "text": [
      "{1, 5, 6}\n"
     ]
    }
   ],
   "source": [
    "# using the XOR operator\n",
    "a1 = {1, 2, 3, 4}\n",
    "a2 = {2, 3, 4, 5, 6}\n",
    "# it gives those elements which are in only one of the sets,i.e uncommon elements\n",
    "print(a1^a2)"
   ]
  }
 ],
 "metadata": {
  "kernelspec": {
   "display_name": "Python 3",
   "language": "python",
   "name": "python3"
  },
  "language_info": {
   "codemirror_mode": {
    "name": "ipython",
    "version": 3
   },
   "file_extension": ".py",
   "mimetype": "text/x-python",
   "name": "python",
   "nbconvert_exporter": "python",
   "pygments_lexer": "ipython3",
   "version": "3.7.0"
  }
 },
 "nbformat": 4,
 "nbformat_minor": 2
}
