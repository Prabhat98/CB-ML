{
 "cells": [
  {
   "cell_type": "code",
   "execution_count": 1,
   "metadata": {},
   "outputs": [],
   "source": [
    "\n",
    "def hi(name):\n",
    "    print(\"Hello there !!\" + name)\n",
    "def hello(n1, n2):\n",
    "    print(\"First name\" + n1 + \"Last name\" + n2)"
   ]
  },
  {
   "cell_type": "code",
   "execution_count": 43,
   "metadata": {},
   "outputs": [
    {
     "name": "stdout",
     "output_type": "stream",
     "text": [
      "89\n",
      "Prime\n"
     ]
    }
   ],
   "source": [
    "flag = False\n",
    "num = int(input())\n",
    "for i in range(2, num):\n",
    "    if(num%i == 0):\n",
    "        print(\"Not prime\")\n",
    "        flag = True\n",
    "        break\n",
    "if(flag == False):\n",
    "    print(\"Prime\")"
   ]
  },
  {
   "cell_type": "code",
   "execution_count": 22,
   "metadata": {},
   "outputs": [
    {
     "name": "stdout",
     "output_type": "stream",
     "text": [
      "1\n",
      "2\n",
      "3\n",
      "4\n",
      "got it\n"
     ]
    }
   ],
   "source": [
    "for i in range(1,7):\n",
    "    if(i==5):\n",
    "        print(\"got it\")\n",
    "        break\n",
    "    else:\n",
    "        print(i)"
   ]
  },
  {
   "cell_type": "code",
   "execution_count": null,
   "metadata": {},
   "outputs": [],
   "source": []
  }
 ],
 "metadata": {
  "kernelspec": {
   "display_name": "Python 3",
   "language": "python",
   "name": "python3"
  },
  "language_info": {
   "codemirror_mode": {
    "name": "ipython",
    "version": 3
   },
   "file_extension": ".py",
   "mimetype": "text/x-python",
   "name": "python",
   "nbconvert_exporter": "python",
   "pygments_lexer": "ipython3",
   "version": "3.7.0"
  }
 },
 "nbformat": 4,
 "nbformat_minor": 2
}
