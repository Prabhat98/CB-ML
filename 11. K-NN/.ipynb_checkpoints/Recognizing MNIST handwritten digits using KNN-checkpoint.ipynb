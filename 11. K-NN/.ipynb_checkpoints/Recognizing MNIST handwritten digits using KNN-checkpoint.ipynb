{
 "cells": [
  {
   "cell_type": "code",
   "execution_count": 1,
   "metadata": {},
   "outputs": [],
   "source": [
    "import pandas as pd\n",
    "import matplotlib.pyplot as plt\n",
    "import numpy as np\n",
    "\n",
    "data = pd.read_csv(\"./data/mnist_train.csv\")"
   ]
  },
  {
   "cell_type": "markdown",
   "metadata": {},
   "source": [
    "## Dataframe to numpy array"
   ]
  },
  {
   "cell_type": "code",
   "execution_count": 2,
   "metadata": {},
   "outputs": [
    {
     "name": "stdout",
     "output_type": "stream",
     "text": [
      "(42000, 784)\n",
      "(42000,)\n"
     ]
    }
   ],
   "source": [
    "# converting dataframe to numpy array\n",
    "df = data.values\n",
    "x = df[:, 1:]\n",
    "y = df[:, 0]\n",
    "print(x.shape)\n",
    "print(y.shape)"
   ]
  },
  {
   "cell_type": "markdown",
   "metadata": {},
   "source": [
    "## Splitting into training and testing set"
   ]
  },
  {
   "cell_type": "code",
   "execution_count": 3,
   "metadata": {},
   "outputs": [
    {
     "name": "stdout",
     "output_type": "stream",
     "text": [
      "(33600, 784) (33600,)\n",
      "(8400, 784) (8400,)\n"
     ]
    }
   ],
   "source": [
    "# splitting the data into training and testing samples\n",
    "split = int(0.8*x.shape[0])\n",
    "x_train = x[:split, :]\n",
    "x_test = x[split:, :]\n",
    "y_train = y[:split]\n",
    "y_test = y[split:]\n",
    "print(x_train.shape, y_train.shape)\n",
    "print(x_test.shape, y_test.shape)"
   ]
  },
  {
   "cell_type": "code",
   "execution_count": 4,
   "metadata": {},
   "outputs": [
    {
     "data": {
      "image/png": "[encoded data removed]",
      "text/plain": [
       "<Figure size 432x288 with 1 Axes>"
      ]
     },
     "metadata": {
      "needs_background": "light"
     },
     "output_type": "display_data"
    },
    {
     "name": "stdout",
     "output_type": "stream",
     "text": [
      "8\n"
     ]
    }
   ],
   "source": [
    "def image(img, value):\n",
    "    mat = img.reshape(28, 28)\n",
    "    plt.imshow(mat, cmap = \"gray\")\n",
    "    plt.show()\n",
    "    print(value)\n",
    "\n",
    "image(x_train[440], y_train[440])"
   ]
  },
  {
   "cell_type": "markdown",
   "metadata": {},
   "source": [
    "## KNN on MNIST"
   ]
  },
  {
   "cell_type": "code",
   "execution_count": 5,
   "metadata": {},
   "outputs": [
    {
     "name": "stdout",
     "output_type": "stream",
     "text": [
      "The actual value is 7\n",
      "Predicted values using KNN is 7\n"
     ]
    }
   ],
   "source": [
    "def distance(query_point, any_point):\n",
    "    dist = np.sqrt(sum((query_point - any_point)**2))\n",
    "    return dist\n",
    "\n",
    "def knn(x_train, y_train, query_point, k = 5):\n",
    "    value = []\n",
    "    m = x_train.shape[0]\n",
    "    for i in range(m):\n",
    "        dist = distance(query_point, x_train[i])\n",
    "        value.append((dist, y_train[i]))\n",
    "    sorted_values = sorted(value)\n",
    "    nearest_k_values = np.array(sorted_values[:k])\n",
    "    return nearest_k_values\n",
    "\n",
    "def predict(x_train, y_train, query_point):\n",
    "    k_values = knn(x_train, y_train, query_point)\n",
    "    #print(k_values)\n",
    "    # np.unique returns unique values from the array and return_count = True returns the counts of elements of array \n",
    "    values = np.unique(k_values[:, 1], return_counts = True)\n",
    "    # argmax() returns the index largest numbers from array of counts\n",
    "    index = values[1].argmax()\n",
    "    prediction = values[0][index]\n",
    "    return prediction\n",
    "\n",
    "pre = predict(x_train, y_train, x_test[4100])\n",
    "print(\"The actual value is\", y_test[4100])\n",
    "print(\"Predicted values using KNN is\", int(pre))"
   ]
  },
  {
   "cell_type": "markdown",
   "metadata": {},
   "source": [
    "## Accuracy on testing set"
   ]
  },
  {
   "cell_type": "code",
   "execution_count": 15,
   "metadata": {},
   "outputs": [
    {
     "data": {
      "text/plain": [
       "'def predict_values(x_train, y_train, x_test):\\n    m = x_test.shape[0]\\n    count = 0.0\\n    predicted_values = []\\n    for i in range(m):\\n        val = predict(x_train, y_train, x_test[i])\\n        #print(val)\\n        predicted_values.append(val)\\n        count = count + 1\\n        print(count)\\n    return predicted_values\\n\\npredicted_values = predict_values(x_train, y_train, x_test)'"
      ]
     },
     "execution_count": 15,
     "metadata": {},
     "output_type": "execute_result"
    }
   ],
   "source": [
    "\"\"\"def predict_values(x_train, y_train, x_test):\n",
    "    m = x_test.shape[0]\n",
    "    count = 0.0\n",
    "    predicted_values = []\n",
    "    for i in range(m):\n",
    "        val = predict(x_train, y_train, x_test[i])\n",
    "        #print(val)\n",
    "        predicted_values.append(val)\n",
    "        count = count + 1\n",
    "        print(count)\n",
    "    return predicted_values\n",
    "\n",
    "predicted_values = predict_values(x_train, y_train, x_test)\"\"\""
   ]
  },
  {
   "cell_type": "code",
   "execution_count": null,
   "metadata": {},
   "outputs": [],
   "source": []
  }
 ],
 "metadata": {
  "kernelspec": {
   "display_name": "Python 3",
   "language": "python",
   "name": "python3"
  },
  "language_info": {
   "codemirror_mode": {
    "name": "ipython",
    "version": 3
   },
   "file_extension": ".py",
   "mimetype": "text/x-python",
   "name": "python",
   "nbconvert_exporter": "python",
   "pygments_lexer": "ipython3",
   "version": "3.7.0"
  }
 },
 "nbformat": 4,
 "nbformat_minor": 2
}
