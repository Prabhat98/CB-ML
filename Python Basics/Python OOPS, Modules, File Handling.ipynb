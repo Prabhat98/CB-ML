{
 "cells": [
  {
   "cell_type": "markdown",
   "metadata": {},
   "source": [
    "## Modules"
   ]
  },
  {
   "cell_type": "markdown",
   "metadata": {},
   "source": [
    "### A module in python is a set of functions, definitions and statements. Just like there are header files in C++ , there are modules in python\n",
    "## A package is a collection of modules"
   ]
  },
  {
   "cell_type": "markdown",
   "metadata": {},
   "source": [
    "## Characteristics of modules\n",
    "- reusabiliy of code \n",
    "- modules can be imported by another program\n",
    "- various ways to build module\n",
    "- python has standard library of modules"
   ]
  },
  {
   "cell_type": "markdown",
   "metadata": {},
   "source": [
    "## python has standard library of modules like math, sys, cmath(module for complex numbers) etc. Math module contains a lot of funtions like gcd, factorial, sin, cos, log etc"
   ]
  },
  {
   "cell_type": "code",
   "execution_count": 2,
   "metadata": {},
   "outputs": [
    {
     "name": "stdout",
     "output_type": "stream",
     "text": [
      "120\n"
     ]
    }
   ],
   "source": [
    "# to import a module \n",
    "import math\n",
    "# math is a module that has lot of functions in which factorial is one of them\n",
    "# in order to call thee factorial function we'll have to do math.factorial\n",
    "print(math.factorial(5))"
   ]
  },
  {
   "cell_type": "code",
   "execution_count": 4,
   "metadata": {},
   "outputs": [
    {
     "name": "stdout",
     "output_type": "stream",
     "text": [
      "24\n"
     ]
    }
   ],
   "source": [
    "# in order to use factorial function directly \n",
    "# this will import just one function from entire module\n",
    "from math import factorial\n",
    "print(factorial(4))"
   ]
  },
  {
   "cell_type": "code",
   "execution_count": 5,
   "metadata": {},
   "outputs": [
    {
     "name": "stdout",
     "output_type": "stream",
     "text": [
      "40320\n"
     ]
    }
   ],
   "source": [
    "# in order to rename the function as some short name\n",
    "# gave another name to factorial function as fac\n",
    "from math import factorial as fac\n",
    "# to import all the functions from a module \n",
    "from math import * \n",
    "print(fac(8))"
   ]
  },
  {
   "cell_type": "markdown",
   "metadata": {},
   "source": [
    "## similarly other functions in math modlue are \n",
    "- floor \n",
    "- gcd \n",
    "- log \n",
    "- pi\n",
    "- inf \n",
    "- -inf\n"
   ]
  },
  {
   "cell_type": "markdown",
   "metadata": {},
   "source": [
    "## sys module \n",
    "### provides access to variables and functions related to system or python interpreter like cwd, windows version, command line arguments. Some functions in sys module are \n",
    "- argv\n",
    "#### sys.argv stores list of command line arguments\n",
    "- getwindowsversion()\n",
    "- maxsize\n",
    "#### largest memory that a data structure can take in python\n",
    "- stdin\n",
    "#### file object\n",
    "- stdout\n",
    "#### file object"
   ]
  },
  {
   "cell_type": "code",
   "execution_count": 15,
   "metadata": {},
   "outputs": [
    {
     "name": "stdout",
     "output_type": "stream",
     "text": [
      "['C:\\\\Users\\\\Prabhat\\\\Anaconda3\\\\lib\\\\site-packages\\\\ipykernel_launcher.py', '-f', 'C:\\\\Users\\\\Prabhat\\\\AppData\\\\Roaming\\\\jupyter\\\\runtime\\\\kernel-1a98ff2e-4509-43fa-b5dd-a24a33a3bc2f.json']\n",
      "['C:\\\\Users\\\\Prabhat\\\\Anaconda3\\\\lib\\\\site-packages\\\\ipykernel_launcher.py', '-f', 'C:\\\\Users\\\\Prabhat\\\\AppData\\\\Roaming\\\\jupyter\\\\runtime\\\\kernel-1a98ff2e-4509-43fa-b5dd-a24a33a3bc2f.json']\n",
      "['C:\\\\Users\\\\Prabhat\\\\Anaconda3\\\\lib\\\\site-packages\\\\ipykernel_launcher.py', '-f', 'C:\\\\Users\\\\Prabhat\\\\AppData\\\\Roaming\\\\jupyter\\\\runtime\\\\kernel-1a98ff2e-4509-43fa-b5dd-a24a33a3bc2f.json']\n"
     ]
    }
   ],
   "source": [
    "import sys\n",
    "# whatever arguments we pass in command line will be stored in the list.argv in the form of an array indexing from 0\n",
    "def fun():\n",
    "    for i in sys.argv:\n",
    "        print(sys.argv)\n",
    "fun()  \n"
   ]
  },
  {
   "cell_type": "code",
   "execution_count": 18,
   "metadata": {},
   "outputs": [
    {
     "name": "stdout",
     "output_type": "stream",
     "text": [
      "3.7.0 (default, Jun 28 2018, 08:04:48) [MSC v.1912 64 bit (AMD64)]\n",
      "['', 'C:\\\\Users\\\\Prabhat\\\\Documents\\\\CB ML\\\\Python Basics', 'C:\\\\Users\\\\Prabhat\\\\Anaconda3\\\\python37.zip', 'C:\\\\Users\\\\Prabhat\\\\Anaconda3\\\\DLLs', 'C:\\\\Users\\\\Prabhat\\\\Anaconda3\\\\lib', 'C:\\\\Users\\\\Prabhat\\\\Anaconda3', 'C:\\\\Users\\\\Prabhat\\\\Anaconda3\\\\lib\\\\site-packages', 'C:\\\\Users\\\\Prabhat\\\\Anaconda3\\\\lib\\\\site-packages\\\\win32', 'C:\\\\Users\\\\Prabhat\\\\Anaconda3\\\\lib\\\\site-packages\\\\win32\\\\lib', 'C:\\\\Users\\\\Prabhat\\\\Anaconda3\\\\lib\\\\site-packages\\\\Pythonwin', 'C:\\\\Users\\\\Prabhat\\\\Anaconda3\\\\lib\\\\site-packages\\\\IPython\\\\extensions', 'C:\\\\Users\\\\Prabhat\\\\.ipython']\n"
     ]
    }
   ],
   "source": [
    "# tells the version of python we are running \n",
    "print(sys.version)\n",
    "# stores in what all path does python stores its packages, interpreter will search for packages in all these paths\n",
    "print(sys.path)"
   ]
  },
  {
   "cell_type": "code",
   "execution_count": 22,
   "metadata": {},
   "outputs": [
    {
     "name": "stdout",
     "output_type": "stream",
     "text": [
      "179769313486231570814527423731704356798070567525844996598917476803157260780028538760589558632766878171540458953514382464234321326889464182768467546703537516986049910576551282076245490090389328944075868508455133942304583236903222948165808559332123348274797826204144723168738177180919299881250404026184124858368\n"
     ]
    }
   ],
   "source": [
    "print(int(sys.float_info.max))"
   ]
  },
  {
   "cell_type": "code",
   "execution_count": 24,
   "metadata": {},
   "outputs": [
    {
     "name": "stdout",
     "output_type": "stream",
     "text": [
      "9223372036854775807\n"
     ]
    }
   ],
   "source": [
    "# largest memory a data structure can take \n",
    "print(sys.maxsize)"
   ]
  },
  {
   "cell_type": "markdown",
   "metadata": {},
   "source": [
    "## Creating a python module and importing to other python file "
   ]
  },
  {
   "cell_type": "markdown",
   "metadata": {},
   "source": [
    "## \\_\\_name\\_\\_ = \"\\_\\_main\\_\\_\""
   ]
  },
  {
   "cell_type": "markdown",
   "metadata": {},
   "source": [
    "### since there is no main function in python so when the code is exexuted then the code at 0 level indendation is run and so, however python defines a special variable before doing so called as \\_\\_name\\_\\_. if the source file is executes as the main program then \\_\\_name\\_\\_ is set to \"\\_\\_main\\_\\_\", if the file is being imported from another module then \\_\\_name\\_\\_ is set to that module's name"
   ]
  },
  {
   "cell_type": "markdown",
   "metadata": {},
   "source": [
    "### the module which is executed directly becomes main and the file that is being imported will have the same name as the file name "
   ]
  },
  {
   "cell_type": "code",
   "execution_count": 10,
   "metadata": {},
   "outputs": [
    {
     "name": "stdout",
     "output_type": "stream",
     "text": [
      "__main__\n"
     ]
    }
   ],
   "source": [
    "# since this is the only source file so its name is set to main\n",
    "print(__name__)"
   ]
  },
  {
   "cell_type": "markdown",
   "metadata": {},
   "source": [
    "### this could be used to tell when the module is running directly and when it is running as a part of an import"
   ]
  },
  {
   "cell_type": "markdown",
   "metadata": {},
   "source": [
    "## OOPs in python"
   ]
  },
  {
   "cell_type": "markdown",
   "metadata": {},
   "source": [
    "### till now we've been learning about procedure oriented programming, now we will deal with objects and classes. A class is a blueprint, a basic template it tells what an object(car for example) would look like. A car would be a class and the objects would be lambo, ford, ferrari etc. Class doesn't take any memory objects do. Class only tells how an object will look like. A class could be said as a datatype that we are creating for ourselves to use"
   ]
  },
  {
   "cell_type": "code",
   "execution_count": 12,
   "metadata": {},
   "outputs": [
    {
     "name": "stdout",
     "output_type": "stream",
     "text": [
      "<class '__main__.Person'>\n"
     ]
    }
   ],
   "source": [
    "# to create a class\n",
    "class Person():\n",
    "    pass\n",
    "# to create an object\n",
    "P = Person()\n",
    "# the folling would tell us the class name and the current module name we are in\n",
    "print(type(P))"
   ]
  },
  {
   "cell_type": "code",
   "execution_count": 19,
   "metadata": {},
   "outputs": [
    {
     "name": "stdout",
     "output_type": "stream",
     "text": [
      "hey there !! Fellas\n"
     ]
    }
   ],
   "source": [
    "class people():\n",
    "    # the first parameter in every function inside the class should be an object and it is referred by self keyword\n",
    "    # self keyword refers to the object of that class\n",
    "    # passed another paramter name to the function\n",
    "    # every method in python class should have first paramter as self\n",
    "    def fun(self, name):\n",
    "        print(\"hey there !!\", name)\n",
    "a = people()\n",
    "a.fun(\"Fellas\")"
   ]
  },
  {
   "cell_type": "code",
   "execution_count": 20,
   "metadata": {},
   "outputs": [],
   "source": [
    "class dog():\n",
    "    # class variable, this will be common for all the eobjects of the same class\n",
    "    # it becomes common for all the datamembers of the class\n",
    "    color = \"brown\""
   ]
  },
  {
   "cell_type": "markdown",
   "metadata": {},
   "source": [
    "## Access modifiers"
   ]
  },
  {
   "cell_type": "code",
   "execution_count": null,
   "metadata": {},
   "outputs": [],
   "source": [
    "### by default all the methods in python are public"
   ]
  }
 ],
 "metadata": {
  "kernelspec": {
   "display_name": "Python 3",
   "language": "python",
   "name": "python3"
  },
  "language_info": {
   "codemirror_mode": {
    "name": "ipython",
    "version": 3
   },
   "file_extension": ".py",
   "mimetype": "text/x-python",
   "name": "python",
   "nbconvert_exporter": "python",
   "pygments_lexer": "ipython3",
   "version": "3.7.0"
  }
 },
 "nbformat": 4,
 "nbformat_minor": 2
}
