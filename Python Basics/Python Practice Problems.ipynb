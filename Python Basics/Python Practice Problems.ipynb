{
 "cells": [
  {
   "cell_type": "markdown",
   "metadata": {},
   "source": [
    "## Check Prime"
   ]
  },
  {
   "cell_type": "code",
   "execution_count": 1,
   "metadata": {},
   "outputs": [
    {
     "name": "stdout",
     "output_type": "stream",
     "text": [
      "13\n",
      "Prime\n"
     ]
    }
   ],
   "source": [
    "flag = False\n",
    "num = int(input())\n",
    "for i in range(2, num):\n",
    "    if(num%i == 0):\n",
    "        print(\"Not prime\")\n",
    "        flag = True\n",
    "        break\n",
    "if(flag == False):\n",
    "    print(\"Prime\")"
   ]
  },
  {
   "cell_type": "code",
   "execution_count": 18,
   "metadata": {},
   "outputs": [
    {
     "name": "stdout",
     "output_type": "stream",
     "text": [
      "-10 -20 -30 1000\n",
      "[-10]\n"
     ]
    }
   ],
   "source": [
    "sum = 0\n",
    "b = []\n",
    "a = [int(i) for i in input().split()]\n",
    "for i in a:\n",
    "    if(sum<0):\n",
    "        print(b)\n",
    "        break\n",
    "    else:\n",
    "        sum = sum + i\n",
    "        b.append(i)\n"
   ]
  },
  {
   "cell_type": "code",
   "execution_count": 13,
   "metadata": {},
   "outputs": [
    {
     "name": "stdout",
     "output_type": "stream",
     "text": [
      "1 2 3 4 5 6 \n",
      "[2, 4, 6]\n",
      "<class 'list'>\n"
     ]
    }
   ],
   "source": [
    "b = []\n",
    "a = [int(i) for i in input().split()]\n",
    "for i in a:\n",
    "    if(i%2 == 0):\n",
    "        b.append(i)\n",
    "print(b)\n",
    "print(type(b))"
   ]
  }
 ],
 "metadata": {
  "kernelspec": {
   "display_name": "Python 3",
   "language": "python",
   "name": "python3"
  },
  "language_info": {
   "codemirror_mode": {
    "name": "ipython",
    "version": 3
   },
   "file_extension": ".py",
   "mimetype": "text/x-python",
   "name": "python",
   "nbconvert_exporter": "python",
   "pygments_lexer": "ipython3",
   "version": "3.7.0"
  }
 },
 "nbformat": 4,
 "nbformat_minor": 2
}
