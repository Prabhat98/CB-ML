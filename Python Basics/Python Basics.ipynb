{
 "cells": [
  {
   "cell_type": "code",
   "execution_count": 11,
   "metadata": {},
   "outputs": [
    {
     "name": "stdout",
     "output_type": "stream",
     "text": [
      "34\n",
      "34\n",
      "<class 'int'>\n",
      "The sqaure is 1156\n",
      "The sqaure of the number is 1156\n"
     ]
    }
   ],
   "source": [
    "# input function takes input from the user\n",
    "# Type casting performed here, converted string to integer\n",
    "# int() can be used to convert any number to integer\n",
    "# similarly we can use float()  \n",
    "a = int(input())\n",
    "print(a)\n",
    "print(type(a))\n",
    "print(\"The sqaure is\", a*a)\n",
    "# Again typecasting performed here, converted integer to string, because python doesn't allow concatination\n",
    "# of string with integer so integer typecasted to string to perform concatination\n",
    "# str() can be used to convert anything to string\n",
    "print(\"The sqaure of the number is \" + str(a*a))"
   ]
  },
  {
   "cell_type": "code",
   "execution_count": 3,
   "metadata": {},
   "outputs": [
    {
     "name": "stdout",
     "output_type": "stream",
     "text": [
      "hello,there,this,is,python\n"
     ]
    }
   ],
   "source": [
    "# sep is a parameter(named) that separates different elements\n",
    "# anything could be supplied to the separator that would separate the elements\n",
    "print(\"hello\",\"there\",\"this\",\"is\",\"python\",sep = \"\\n\")"
   ]
  },
  {
   "cell_type": "code",
   "execution_count": 5,
   "metadata": {},
   "outputs": [
    {
     "name": "stdout",
     "output_type": "stream",
     "text": [
      "10,20\n"
     ]
    }
   ],
   "source": [
    "# end is parameter that marks the end of a element\n",
    "a = 10\n",
    "b = 20\n",
    "print(a, end = \",\")\n",
    "print(b)"
   ]
  },
  {
   "cell_type": "code",
   "execution_count": 7,
   "metadata": {},
   "outputs": [
    {
     "name": "stdout",
     "output_type": "stream",
     "text": [
      "Batman and Robin\n"
     ]
    }
   ],
   "source": [
    "# Format\n",
    "a = 'Batman'\n",
    "b = 'Robin'\n",
    "# 0 gets replaced by a and 1 gets replaced by b\n",
    "print(\"{0} and {1}\".format(a,b))\n",
    "# Format behaves like a template, a and b can be replaced by any variable in the print function"
   ]
  },
  {
   "cell_type": "code",
   "execution_count": 11,
   "metadata": {},
   "outputs": [
    {
     "name": "stdout",
     "output_type": "stream",
     "text": [
      "0.5\n",
      "0\n",
      "10240000000000\n"
     ]
    }
   ],
   "source": [
    "# Operators \n",
    "# // (double divide gives integer as result) called as floor division\n",
    "a = 10\n",
    "b = 20\n",
    "print(a/b)# gives float as result \n",
    "print(a//b)# gives integer as result\n",
    "# ** is the power operator, called as to the power\n",
    "print(b**a)\n",
    "# % is the remainder operator, gives remainder"
   ]
  },
  {
   "cell_type": "code",
   "execution_count": 12,
   "metadata": {},
   "outputs": [
    {
     "data": {
      "text/plain": [
       "'This is a \\nmultiline\\ncomment'"
      ]
     },
     "execution_count": 12,
     "metadata": {},
     "output_type": "execute_result"
    }
   ],
   "source": [
    "# In real this is not the output it's just the property of the jupyter that it will print the multiline comment \n",
    "# but if we execute this as a program we'll not get any output\n",
    "\"\"\"This is a \n",
    "multiline\n",
    "comment\"\"\""
   ]
  },
  {
   "cell_type": "code",
   "execution_count": 14,
   "metadata": {},
   "outputs": [
    {
     "name": "stdout",
     "output_type": "stream",
     "text": [
      "This is a \n",
      "multiline\n",
      "string\n"
     ]
    }
   ],
   "source": [
    "# Multiline string using \"\"\"\"\"\"\n",
    "string = \"\"\"This is a \n",
    "multiline\n",
    "string\"\"\"\n",
    "print(string)\n",
    "# \"\"\"\"\"\" without assignment becomes comment and with assignment it becomes value of the variable"
   ]
  },
  {
   "cell_type": "markdown",
   "metadata": {},
   "source": [
    "## unexpected indentations are errors in python not like c++"
   ]
  },
  {
   "cell_type": "markdown",
   "metadata": {},
   "source": [
    "## Increment/Decrement operators are not supported in python, a++ and ++a are not valid in python"
   ]
  },
  {
   "cell_type": "markdown",
   "metadata": {},
   "source": [
    "## Three type of loops in pyhton \n",
    "- For loop\n",
    "- While loop\n",
    "- For each loop\n"
   ]
  },
  {
   "cell_type": "markdown",
   "metadata": {},
   "source": [
    "## Break Continue and Pass statements"
   ]
  },
  {
   "cell_type": "code",
   "execution_count": 7,
   "metadata": {},
   "outputs": [
    {
     "name": "stdout",
     "output_type": "stream",
     "text": [
      "1\n",
      "2\n",
      "4\n"
     ]
    }
   ],
   "source": [
    "# Pass statement is used when we dont want the block of code to be executed\n",
    "# Nothing happens when i is 3\n",
    "for i in range(1,5):\n",
    "    if(i==3):\n",
    "        pass\n",
    "    else:\n",
    "        print(i)\n",
    "        "
   ]
  },
  {
   "cell_type": "code",
   "execution_count": 11,
   "metadata": {},
   "outputs": [
    {
     "name": "stdout",
     "output_type": "stream",
     "text": [
      "1\n",
      "2\n",
      "3\n",
      "4\n"
     ]
    }
   ],
   "source": [
    "# Break statement breaks the loop as soon as the condition is met\n",
    "# Break takes us out of the loop\n",
    "for i in range(1,7):\n",
    "    if(i==5):\n",
    "        break\n",
    "    else:\n",
    "        print(i)\n",
    "        "
   ]
  },
  {
   "cell_type": "code",
   "execution_count": 13,
   "metadata": {},
   "outputs": [
    {
     "name": "stdout",
     "output_type": "stream",
     "text": [
      "1\n",
      "2\n",
      "3\n",
      "4\n",
      "6\n",
      "7\n",
      "8\n",
      "9\n"
     ]
    }
   ],
   "source": [
    "# Continue statement skips the following part of the loop and the loop is resumed from the next value\n",
    "for i in range(1,10):\n",
    "    if(i==5):\n",
    "        continue\n",
    "    else:\n",
    "        print(i)"
   ]
  },
  {
   "cell_type": "markdown",
   "metadata": {},
   "source": [
    "## Prime numbers upto N"
   ]
  },
  {
   "cell_type": "code",
   "execution_count": 6,
   "metadata": {},
   "outputs": [
    {
     "name": "stdout",
     "output_type": "stream",
     "text": [
      "Enter the number 10\n",
      "Prime number 2\n",
      "Prime number 3\n",
      "Prime number 5\n",
      "Prime number 7\n"
     ]
    }
   ],
   "source": [
    "n = int(input(\"Enter the number \"))\n",
    "for i in range(2,n):\n",
    "    for x in range(2,i):\n",
    "        if(i%x==0):\n",
    "            break            \n",
    "    else:\n",
    "        print(\"Prime number\", i)\n",
    "        "
   ]
  },
  {
   "cell_type": "markdown",
   "metadata": {},
   "source": [
    "## Default Arguments and Local Global Variables"
   ]
  },
  {
   "cell_type": "code",
   "execution_count": 13,
   "metadata": {},
   "outputs": [
    {
     "name": "stdout",
     "output_type": "stream",
     "text": [
      "I like Javascript\n",
      "I like Python\n",
      "C++\n"
     ]
    }
   ],
   "source": [
    "# x = \"python\" becomes default value of parameter is no argument is passed to it, if any argument is passed then\n",
    "# that argument overwrties the default argument value\n",
    "# lang now becomes a global variable\n",
    "lang = \"C++\"\n",
    "def say(x= \"Python\"):\n",
    "    # a is not in global scope so can't be accessed by print function\n",
    "    a = \"Bee\"\n",
    "    print(\"I like \"+x)\n",
    "say(\"Javascript\")\n",
    "say()\n",
    "print(lang)\n",
    "#print(a)"
   ]
  },
  {
   "cell_type": "markdown",
   "metadata": {},
   "source": [
    "## Recursion"
   ]
  },
  {
   "cell_type": "code",
   "execution_count": 19,
   "metadata": {},
   "outputs": [
    {
     "name": "stdout",
     "output_type": "stream",
     "text": [
      "120\n"
     ]
    }
   ],
   "source": [
    "def fact(n):\n",
    "    if(n==0):\n",
    "        return 1\n",
    "    else:\n",
    "        return n*(fact(n-1))\n",
    "print(fact(5))"
   ]
  },
  {
   "cell_type": "markdown",
   "metadata": {},
   "source": [
    "### Perform quick sort using recursion"
   ]
  },
  {
   "cell_type": "markdown",
   "metadata": {},
   "source": [
    "## Keyword Arguments"
   ]
  },
  {
   "cell_type": "code",
   "execution_count": 21,
   "metadata": {},
   "outputs": [
    {
     "name": "stdout",
     "output_type": "stream",
     "text": [
      "I scored 9 in python\n",
      "1100\n"
     ]
    }
   ],
   "source": [
    "def myfunc(score, lang, roll):\n",
    "    print(\"I scored\", score, \"in\", lang)\n",
    "    print(roll)\n",
    "myfunc(lang = \"python\", roll = 1100, score = 9)\n",
    "# when we dont remember the order of parameters in function then we can simply assign the values while calling them\n",
    "# in function\n",
    "# More keyword arguments in python are sep and end"
   ]
  },
  {
   "cell_type": "markdown",
   "metadata": {},
   "source": [
    "## Strings"
   ]
  },
  {
   "cell_type": "code",
   "execution_count": 24,
   "metadata": {},
   "outputs": [
    {
     "data": {
      "text/plain": [
       "'Hello everyone'"
      ]
     },
     "execution_count": 24,
     "metadata": {},
     "output_type": "execute_result"
    }
   ],
   "source": [
    "# Python strings are immutable, assignment doesn't works\n",
    "a = \"Wassup everybody\"\n",
    "# assignment not possible\n",
    "#a[2] = 'e'\n",
    "# although we could assign a whole new string \n",
    "a = \"Hello everyone\"\n",
    "a"
   ]
  },
  {
   "cell_type": "code",
   "execution_count": 27,
   "metadata": {},
   "outputs": [
    {
     "data": {
      "text/plain": [
       "'Hello everyon'"
      ]
     },
     "execution_count": 27,
     "metadata": {},
     "output_type": "execute_result"
    }
   ],
   "source": [
    "a[:-1]"
   ]
  },
  {
   "cell_type": "code",
   "execution_count": 30,
   "metadata": {},
   "outputs": [
    {
     "data": {
      "text/plain": [
       "'lo e'"
      ]
     },
     "execution_count": 30,
     "metadata": {},
     "output_type": "execute_result"
    }
   ],
   "source": [
    "a[3:7]"
   ]
  },
  {
   "cell_type": "code",
   "execution_count": 35,
   "metadata": {},
   "outputs": [
    {
     "data": {
      "text/plain": [
       "True"
      ]
     },
     "execution_count": 35,
     "metadata": {},
     "output_type": "execute_result"
    }
   ],
   "source": [
    "# Membership, tell whether the substring is present in the string or not \n",
    "'one' in a"
   ]
  },
  {
   "cell_type": "markdown",
   "metadata": {},
   "source": [
    "## String Inbuilt functions"
   ]
  },
  {
   "cell_type": "code",
   "execution_count": 57,
   "metadata": {},
   "outputs": [
    {
     "name": "stdout",
     "output_type": "stream",
     "text": [
      "['This', 'is', 'a', 'awesome', 'paragraph']\n",
      "<class 'list'>\n",
      "['This is ', 'an awesome', 'paragraph']\n",
      "THIS IS A AWESOME PARAGRAPH\n",
      "20\n",
      "Hello there    \n",
      "15\n",
      "     Hello there\n",
      "11\n",
      "True\n"
     ]
    }
   ],
   "source": [
    "para = \"This is a awesome paragraph\"\n",
    "# split returns a list of words in that string\n",
    "print(para.split())\n",
    "print(type(para.split()))\n",
    "para1 = \"\"\"This is \n",
    "an awesome\n",
    "paragraph\"\"\"\n",
    "# to split about the line we use\n",
    "print(para1.splitlines())\n",
    "# to change string to uppercase or lowercase\n",
    "print(para.upper())\n",
    "para.lower()\n",
    "# to remove leading white space, means white space in the beginning\n",
    "para2 = \"     Hello there    \"\n",
    "print(len(para2))\n",
    "print(para2.lstrip())\n",
    "print(len(para2.lstrip()))\n",
    "# to remove ending white space\n",
    "print(para2.rstrip())\n",
    "# to remove both leading and ending white spaces\n",
    "print(len(para2.strip()))\n",
    "# to check if given string contains only digits\n",
    "a = \"90\"\n",
    "a.isdigit()\n",
    "# to check if string contains only alphabets, not even spaces accepted\n",
    "b = \"sasdsa\"\n",
    "b.isalpha()\n",
    "# to check if the string has both alphabets and numerics\n",
    "c = \"123asd\"\n",
    "c.isalnum()\n",
    "# to check if string is lower case or upper case\n",
    "c.islower()\n",
    "c.isupper()\n",
    "# to check if the string has only whitespaces \n",
    "d = \"   \"\n",
    "print(d.isspace())\n"
   ]
  },
  {
   "cell_type": "markdown",
   "metadata": {},
   "source": [
    "## More string functions\n",
    "- Find\n",
    "- Replace\n",
    "- Count\n",
    "- Join\n",
    "- Title\n",
    "- Capitalize"
   ]
  },
  {
   "cell_type": "code",
   "execution_count": 12,
   "metadata": {},
   "outputs": [
    {
     "name": "stdout",
     "output_type": "stream",
     "text": [
      "['I', 'like', 'playing', 'with', 'code', \"it's\", 'just', 'fun']\n"
     ]
    },
    {
     "data": {
      "text/plain": [
       "'Water Sprinkler'"
      ]
     },
     "execution_count": 12,
     "metadata": {},
     "output_type": "execute_result"
    }
   ],
   "source": [
    "# To find a particular string in another string\n",
    "a = \"I like playing with code it's just fun\"\n",
    "# find gives the first occurence, if the string is not present then it'd return -1\n",
    "a.find(\"with\")\n",
    "# r.find gives the occurence from right hand side\n",
    "a.rfind(\"with\")\n",
    "# optional parameters include starting and ending point of the search\n",
    "a.find(\"just\", 20, len(a))\n",
    "# similar could be achieved by index, starting and ending parameters could be mentioned here too\n",
    "a.index(\"code\")\n",
    "# the difference between the two is that, find returns -1 and index throws an exception in case of \n",
    "# absence of that word in the string\n",
    "# replace function replaces old words with new ones\n",
    "a.replace(\"fun\", \"exciting\")\n",
    "# count method gives the number of occurences of a word in the string\n",
    "a.count(\"with\")\n",
    "# join method is used to join the words of the string\n",
    "a = a.split()\n",
    "print(a)\n",
    "# all the words of the string are joined using whatever character is specified in inverted commas\n",
    "\"_\".join(a)\n",
    "# to capitalize the first character of the first word only\n",
    "b = \"water sprinkler\"\n",
    "b.capitalize()\n",
    "# to capitalize all the first characters of all the words\n",
    "b.title()"
   ]
  }
 ],
 "metadata": {
  "kernelspec": {
   "display_name": "Python 3",
   "language": "python",
   "name": "python3"
  },
  "language_info": {
   "codemirror_mode": {
    "name": "ipython",
    "version": 3
   },
   "file_extension": ".py",
   "mimetype": "text/x-python",
   "name": "python",
   "nbconvert_exporter": "python",
   "pygments_lexer": "ipython3",
   "version": "3.7.0"
  }
 },
 "nbformat": 4,
 "nbformat_minor": 2
}
