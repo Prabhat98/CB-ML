{
 "cells": [
  {
   "cell_type": "markdown",
   "metadata": {},
   "source": [
    "## Modules"
   ]
  },
  {
   "cell_type": "markdown",
   "metadata": {},
   "source": [
    "### A module in python is a set of functions, definitions and statements. Just like there are header files in C++ , there are modules in python\n",
    "## A package is a collection of modules"
   ]
  },
  {
   "cell_type": "markdown",
   "metadata": {},
   "source": [
    "## Characteristics of modules\n",
    "- reusabiliy of code \n",
    "- modules can be imported by another program\n",
    "- various ways to build module\n",
    "- python has standard library of modules"
   ]
  },
  {
   "cell_type": "markdown",
   "metadata": {},
   "source": [
    "## python has standard library of modules like math, sys, cmath(module for complex numbers) etc. Math module contains a lot of funtions like gcd, factorial, sin, cos, log etc"
   ]
  },
  {
   "cell_type": "code",
   "execution_count": 2,
   "metadata": {},
   "outputs": [
    {
     "name": "stdout",
     "output_type": "stream",
     "text": [
      "120\n"
     ]
    }
   ],
   "source": [
    "# to import a module \n",
    "import math\n",
    "# math is a module that has lot of functions in which factorial is one of them\n",
    "# in order to call thee factorial function we'll have to do math.factorial\n",
    "print(math.factorial(5))"
   ]
  },
  {
   "cell_type": "code",
   "execution_count": 4,
   "metadata": {},
   "outputs": [
    {
     "name": "stdout",
     "output_type": "stream",
     "text": [
      "24\n"
     ]
    }
   ],
   "source": [
    "# in order to use factorial function directly \n",
    "# this will import just one function from entire module\n",
    "from math import factorial\n",
    "print(factorial(4))"
   ]
  },
  {
   "cell_type": "code",
   "execution_count": 5,
   "metadata": {},
   "outputs": [
    {
     "name": "stdout",
     "output_type": "stream",
     "text": [
      "40320\n"
     ]
    }
   ],
   "source": [
    "# in order to rename the function as some short name\n",
    "# gave another name to factorial function as fac\n",
    "from math import factorial as fac\n",
    "print(fac(8))"
   ]
  },
  {
   "cell_type": "markdown",
   "metadata": {},
   "source": [
    "## similarly other functions in math modlue are \n",
    "- floor \n",
    "- gcd \n",
    "- log \n",
    "- pi\n",
    "- inf \n",
    "- -inf\n"
   ]
  },
  {
   "cell_type": "code",
   "execution_count": null,
   "metadata": {},
   "outputs": [],
   "source": []
  }
 ],
 "metadata": {
  "kernelspec": {
   "display_name": "Python 3",
   "language": "python",
   "name": "python3"
  },
  "language_info": {
   "codemirror_mode": {
    "name": "ipython",
    "version": 3
   },
   "file_extension": ".py",
   "mimetype": "text/x-python",
   "name": "python",
   "nbconvert_exporter": "python",
   "pygments_lexer": "ipython3",
   "version": "3.7.0"
  }
 },
 "nbformat": 4,
 "nbformat_minor": 2
}
