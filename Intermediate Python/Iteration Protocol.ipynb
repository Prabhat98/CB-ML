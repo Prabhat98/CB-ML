{
 "cells": [
  {
   "cell_type": "markdown",
   "metadata": {},
   "source": [
    "## Iteration:\n",
    "### iteration is the repetition of process\n",
    "## Iterable:\n",
    "### iterable is a python object which could be iterated upon, for example a list, tuple or a dictionary\n",
    "## Iterator: \n",
    "### an iterator is a python object which enables us to iterate over iterable"
   ]
  },
  {
   "cell_type": "markdown",
   "metadata": {},
   "source": [
    "### whenever we pass an iterbale to the iter() function which is an inbuilt python function, it returns us the iterator, this iterator function is passed to the next() function which returns us the elements untill it runs out of elements and it stops the iteration"
   ]
  },
  {
   "cell_type": "code",
   "execution_count": 1,
   "metadata": {},
   "outputs": [
    {
     "name": "stdout",
     "output_type": "stream",
     "text": [
      "<list_iterator object at 0x000002CC0F355358>\n",
      "<class 'list_iterator'>\n"
     ]
    }
   ],
   "source": [
    "a = [1,2,3,4]\n",
    "# we will store the iterator that is returned by the iterable after passing through iter() function in object name x_iter \n",
    "x_iter = iter(a)\n",
    "print(x_iter)\n",
    "print(type(x_iter))"
   ]
  }
 ],
 "metadata": {
  "kernelspec": {
   "display_name": "Python 3",
   "language": "python",
   "name": "python3"
  },
  "language_info": {
   "codemirror_mode": {
    "name": "ipython",
    "version": 3
   },
   "file_extension": ".py",
   "mimetype": "text/x-python",
   "name": "python",
   "nbconvert_exporter": "python",
   "pygments_lexer": "ipython3",
   "version": "3.7.0"
  }
 },
 "nbformat": 4,
 "nbformat_minor": 2
}
