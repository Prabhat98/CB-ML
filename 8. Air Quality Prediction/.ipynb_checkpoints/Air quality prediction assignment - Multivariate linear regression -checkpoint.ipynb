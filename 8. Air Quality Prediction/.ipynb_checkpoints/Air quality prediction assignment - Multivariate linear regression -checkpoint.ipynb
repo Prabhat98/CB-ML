{
 "cells": [
  {
   "cell_type": "code",
   "execution_count": 7,
   "metadata": {},
   "outputs": [
    {
     "name": "stdout",
     "output_type": "stream",
     "text": [
      "(1600, 5) (1600,)\n",
      "(1600, 5) (1600,)\n",
      "(400, 5) (400,)\n"
     ]
    }
   ],
   "source": [
    "import pandas as pd \n",
    "import numpy as np\n",
    "import matplotlib.pyplot as plt\n",
    "\n",
    "train_data = pd.read_csv(\"./data/Train.csv\")\n",
    "test_data = pd.read_csv(\"./data/Test.csv\")\n",
    "train_data = train_data.values\n",
    "test_data = test_data.values\n",
    "\n",
    "# separating y values from x values since they are both combined in the csv file\n",
    "\n",
    "x_train = train_data[:, :5]\n",
    "y_train = train_data[:, 5]\n",
    "print(x_train.shape, y_train.shape)\n",
    "\n",
    "x_test = test_data[:, :5]\n",
    "y_test = test_data[:, 5]\n",
    "print(x_test.shape, y_test.shape)\n"
   ]
  },
  {
   "cell_type": "code",
   "execution_count": 8,
   "metadata": {},
   "outputs": [
    {
     "name": "stdout",
     "output_type": "stream",
     "text": [
      "The following are the results when batch gradient descent is used: \n",
      "\n",
      "Value of parameters are, [ 4.99096674 29.68187118 92.66247759  8.28062089 44.76773522  2.51916121]\n",
      "Intercept is 4.990966735314296 and Coefficients are [29.68187118 92.66247759  8.28062089 44.76773522  2.51916121]\n",
      "Minimum value of error achieved in batch gradient descent, 332442.65243889234 \n",
      "\n",
      "The following are the results obtained from mini batch/stochastic gradient descent: \n",
      "\n",
      "Value of parameters are, [ 5.75689119 29.43185647 92.54174134  7.57213257 44.58487411  3.32146598]\n",
      "Intercept is 5.756891189511812 and Coefficients are [29.43185647 92.54174134  7.57213257 44.58487411  3.32146598]\n",
      "Minimum value of error achieved in mini batch gradient descent, 333674.6574079613 \n",
      "\n"
     ]
    }
   ],
   "source": [
    "def hypothesis(theta, x_train):\n",
    "    y = theta[0] + (theta[1]*x_train[0]) + (theta[2]*x_train[1]) + (theta[3]*x_train[2]) + (theta[4]*x_train[3]) + (theta[5]*x_train[4])\n",
    "    return y\n",
    "\n",
    "def gradient(x_train, y_train, theta):\n",
    "    gradient = np.zeros((5,))\n",
    "    gradient_not = np.array([0.0])\n",
    "    m = x_train.shape[0]\n",
    "    for i in range(m):\n",
    "        gradient_not[0] = gradient_not[0] + (hypothesis(theta, x_train[i]) - y_train[i])\n",
    "        for j in range(5):\n",
    "            gradient[j] = gradient[j] + ((hypothesis(theta, x_train[i]) - y_train[i])*x_train[i][j])\n",
    "    return np.append(gradient_not, gradient)\n",
    "\n",
    "def mini_batch_gradient_descent(x_train, y_train, theta, batch_size = 5):\n",
    "    m = x_train.shape[0]\n",
    "    ind = np.arange(m)\n",
    "    np.random.shuffle(ind)\n",
    "    indices = ind[:batch_size]\n",
    "    gradient = np.zeros((5,))\n",
    "    gradient_not = np.array([0.0])\n",
    "    for i in indices:\n",
    "        gradient_not[0] = gradient_not[0] + (hypothesis(theta, x_train[i]) - y_train[i])\n",
    "        for j in range(5):\n",
    "            gradient[j] = gradient[j] + ((hypothesis(theta, x_train[i]) - y_train[i])*x_train[i][j])\n",
    "    return np.append(gradient_not, gradient)\n",
    "\n",
    "def mini_batch_gradient_update(x_train, y_train, learning_rate, max_iterations):\n",
    "    combined_error = []\n",
    "    theta = np.zeros((6,))\n",
    "    for i in range(max_iterations):\n",
    "        err = error(x_train, y_train, theta)\n",
    "        grad = mini_batch_gradient_descent(x_train, y_train, theta)\n",
    "        for j in range(6):\n",
    "            theta[j] = theta[j] - learning_rate*grad[j]\n",
    "        combined_error.append(err)\n",
    "    return theta, combined_error\n",
    "\n",
    "def gradient_update(x_train, y_train, learning_rate, max_iterations):\n",
    "    combined_error = []\n",
    "    theta = np.zeros((6,))\n",
    "    for i in range(max_iterations):\n",
    "        err = error(x_train, y_train, theta)\n",
    "        grad = gradient(x_train, y_train, theta)\n",
    "        for j in range(6):\n",
    "            theta[j] = theta[j] - learning_rate*grad[j]\n",
    "        combined_error.append(err)\n",
    "    return theta, combined_error\n",
    "\n",
    "def error(x_train, y_train, theta):\n",
    "    m = x_train.shape[0]\n",
    "    total_error = 0\n",
    "    for i in range(m):\n",
    "        total_error = total_error + ((hypothesis(theta, x_train[i]) - y_train[i])**2)\n",
    "    return 0.5*total_error\n",
    "\n",
    "theta, combined_error = gradient_update(x_train, y_train, learning_rate = 0.001, max_iterations = 100)\n",
    "print(\"The following are the results when batch gradient descent is used:\",\"\\n\")\n",
    "print(\"Value of parameters are,\", theta)\n",
    "print(\"Intercept is\", theta[0], \"and Coefficients are\", theta[1:])\n",
    "print(\"Minimum value of error achieved in batch gradient descent,\", min(combined_error),\"\\n\")\n",
    "\n",
    "theta1, combined_error1 = mini_batch_gradient_update(x_train, y_train, learning_rate = 0.01, max_iterations = 200)\n",
    "print(\"The following are the results obtained from mini batch/stochastic gradient descent:\",\"\\n\")\n",
    "print(\"Value of parameters are,\", theta1)\n",
    "print(\"Intercept is\", theta1[0], \"and Coefficients are\", theta1[1:])\n",
    "print(\"Minimum value of error achieved in mini batch gradient descent,\", min(combined_error1),\"\\n\")\n"
   ]
  },
  {
   "cell_type": "code",
   "execution_count": 9,
   "metadata": {},
   "outputs": [
    {
     "data": {
      "image/png": "[encoded data removed]",
      "text/plain": [
       "<Figure size 432x288 with 1 Axes>"
      ]
     },
     "metadata": {
      "needs_background": "light"
     },
     "output_type": "display_data"
    },
    {
     "data": {
      "image/png": "[encoded data removed]",
      "text/plain": [
       "<Figure size 432x288 with 1 Axes>"
      ]
     },
     "metadata": {
      "needs_background": "light"
     },
     "output_type": "display_data"
    }
   ],
   "source": [
    "plt.plot(combined_error)\n",
    "plt.show()\n",
    "\n",
    "plt.plot(combined_error1)\n",
    "plt.show()"
   ]
  },
  {
   "cell_type": "code",
   "execution_count": 10,
   "metadata": {},
   "outputs": [
    {
     "name": "stdout",
     "output_type": "stream",
     "text": [
      "Intercept, 4.990966735574959\n",
      "Coefficients, [29.68187118 92.66247759  8.28062089 44.76773522  2.51916121]\n",
      "Score on Training set is 0.9660939669975616\n"
     ]
    }
   ],
   "source": [
    "from sklearn.linear_model import LinearRegression\n",
    "\n",
    "lr = LinearRegression()\n",
    "lr.fit(x_train, y_train)\n",
    "print(\"Intercept,\", lr.intercept_)\n",
    "print(\"Coefficients,\", lr.coef_)\n",
    "print(\"Score on Training set is\", lr.score(x_train, y_train))\n"
   ]
  },
  {
   "cell_type": "code",
   "execution_count": 56,
   "metadata": {},
   "outputs": [
    {
     "name": "stdout",
     "output_type": "stream",
     "text": [
      "r2 score on training set 0.9660939669975617 \n",
      "\n",
      "r2 score on testing set 0.9691488404729783\n"
     ]
    }
   ],
   "source": [
    "# Evaluating the accuracy of the algorithm by finding the r2 score (coefficient of determination)\n",
    "\n",
    "from sklearn.metrics import r2_score\n",
    "\n",
    "y_train_predicted = np.zeros((1600,))\n",
    "m = x_train.shape[0]\n",
    "for i in range(m):\n",
    "    y_train_predicted[i] = hypothesis(theta, x_train[i])\n",
    "print(\"r2 score on training set\", r2_score(y_train, y_train_predicted), \"\\n\")\n",
    "\n",
    "y_test_predicted = np.zeros((400,))\n",
    "m = x_test.shape[0]\n",
    "for i in range(m):\n",
    "    y_test_predicted[i] = hypothesis(theta, x_test[i])\n",
    "print(\"r2 score on testing set\", r2_score(y_test, y_test_predicted))\n"
   ]
  }
 ],
 "metadata": {
  "kernelspec": {
   "display_name": "Python 3",
   "language": "python",
   "name": "python3"
  },
  "language_info": {
   "codemirror_mode": {
    "name": "ipython",
    "version": 3
   },
   "file_extension": ".py",
   "mimetype": "text/x-python",
   "name": "python",
   "nbconvert_exporter": "python",
   "pygments_lexer": "ipython3",
   "version": "3.7.0"
  }
 },
 "nbformat": 4,
 "nbformat_minor": 2
}
